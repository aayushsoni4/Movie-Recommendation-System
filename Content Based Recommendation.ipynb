{
 "cells": [
  {
   "cell_type": "code",
   "execution_count": 83,
   "id": "100a774f",
   "metadata": {
    "ExecuteTime": {
     "end_time": "2024-04-11T17:07:28.190721Z",
     "start_time": "2024-04-11T17:07:26.843565Z"
    }
   },
   "outputs": [],
   "source": [
    "import numpy as np\n",
    "import pandas as pd\n",
    "import json"
   ]
  },
  {
   "cell_type": "code",
   "execution_count": 84,
   "id": "51a9149a",
   "metadata": {
    "ExecuteTime": {
     "end_time": "2024-04-11T17:07:29.631853Z",
     "start_time": "2024-04-11T17:07:29.199770Z"
    }
   },
   "outputs": [],
   "source": [
    "movies = pd.read_csv('dataset/tmdb_5000_movies.csv')\n",
    "credits = pd.read_csv('dataset/tmdb_5000_credits.csv')"
   ]
  },
  {
   "cell_type": "code",
   "execution_count": 85,
   "id": "23f13e1c",
   "metadata": {
    "ExecuteTime": {
     "end_time": "2024-04-11T17:07:58.423036Z",
     "start_time": "2024-04-11T17:07:58.419860Z"
    }
   },
   "outputs": [],
   "source": [
    "movies.rename(columns={'id':'ratingId'}, inplace=True)"
   ]
  },
  {
   "cell_type": "code",
   "execution_count": 86,
   "id": "d159c3af",
   "metadata": {
    "ExecuteTime": {
     "end_time": "2024-04-11T17:08:00.979479Z",
     "start_time": "2024-04-11T17:08:00.959340Z"
    }
   },
   "outputs": [
    {
     "data": {
      "text/html": [
       "<div>\n",
       "<style scoped>\n",
       "    .dataframe tbody tr th:only-of-type {\n",
       "        vertical-align: middle;\n",
       "    }\n",
       "\n",
       "    .dataframe tbody tr th {\n",
       "        vertical-align: top;\n",
       "    }\n",
       "\n",
       "    .dataframe thead th {\n",
       "        text-align: right;\n",
       "    }\n",
       "</style>\n",
       "<table border=\"1\" class=\"dataframe\">\n",
       "  <thead>\n",
       "    <tr style=\"text-align: right;\">\n",
       "      <th></th>\n",
       "      <th>budget</th>\n",
       "      <th>genres</th>\n",
       "      <th>homepage</th>\n",
       "      <th>ratingId</th>\n",
       "      <th>keywords</th>\n",
       "      <th>original_language</th>\n",
       "      <th>original_title</th>\n",
       "      <th>overview</th>\n",
       "      <th>popularity</th>\n",
       "      <th>production_companies</th>\n",
       "      <th>production_countries</th>\n",
       "      <th>release_date</th>\n",
       "      <th>revenue</th>\n",
       "      <th>runtime</th>\n",
       "      <th>spoken_languages</th>\n",
       "      <th>status</th>\n",
       "      <th>tagline</th>\n",
       "      <th>title</th>\n",
       "      <th>vote_average</th>\n",
       "      <th>vote_count</th>\n",
       "    </tr>\n",
       "  </thead>\n",
       "  <tbody>\n",
       "    <tr>\n",
       "      <th>3304</th>\n",
       "      <td>0</td>\n",
       "      <td>[{\"id\": 28, \"name\": \"Action\"}, {\"id\": 18, \"nam...</td>\n",
       "      <td>NaN</td>\n",
       "      <td>182873</td>\n",
       "      <td>[]</td>\n",
       "      <td>en</td>\n",
       "      <td>Green Street Hooligans: Underground</td>\n",
       "      <td>An old firm leader returns to Green Street for...</td>\n",
       "      <td>5.0005</td>\n",
       "      <td>[{\"name\": \"Tea Shop &amp; Film Company\", \"id\": 131...</td>\n",
       "      <td>[{\"iso_3166_1\": \"US\", \"name\": \"United States o...</td>\n",
       "      <td>2013-01-01</td>\n",
       "      <td>0</td>\n",
       "      <td>90.0</td>\n",
       "      <td>[{\"iso_639_1\": \"en\", \"name\": \"English\"}]</td>\n",
       "      <td>Released</td>\n",
       "      <td>NaN</td>\n",
       "      <td>Green Street Hooligans: Underground</td>\n",
       "      <td>5.4</td>\n",
       "      <td>33</td>\n",
       "    </tr>\n",
       "  </tbody>\n",
       "</table>\n",
       "</div>"
      ],
      "text/plain": [
       "      budget                                             genres homepage  \\\n",
       "3304       0  [{\"id\": 28, \"name\": \"Action\"}, {\"id\": 18, \"nam...      NaN   \n",
       "\n",
       "      ratingId keywords original_language  \\\n",
       "3304    182873       []                en   \n",
       "\n",
       "                           original_title  \\\n",
       "3304  Green Street Hooligans: Underground   \n",
       "\n",
       "                                               overview  popularity  \\\n",
       "3304  An old firm leader returns to Green Street for...      5.0005   \n",
       "\n",
       "                                   production_companies  \\\n",
       "3304  [{\"name\": \"Tea Shop & Film Company\", \"id\": 131...   \n",
       "\n",
       "                                   production_countries release_date  revenue  \\\n",
       "3304  [{\"iso_3166_1\": \"US\", \"name\": \"United States o...   2013-01-01        0   \n",
       "\n",
       "      runtime                          spoken_languages    status tagline  \\\n",
       "3304     90.0  [{\"iso_639_1\": \"en\", \"name\": \"English\"}]  Released     NaN   \n",
       "\n",
       "                                    title  vote_average  vote_count  \n",
       "3304  Green Street Hooligans: Underground           5.4          33  "
      ]
     },
     "execution_count": 86,
     "metadata": {},
     "output_type": "execute_result"
    }
   ],
   "source": [
    "movies.sample()"
   ]
  },
  {
   "cell_type": "code",
   "execution_count": 87,
   "id": "d6f3d346",
   "metadata": {
    "ExecuteTime": {
     "end_time": "2024-04-11T17:08:05.452039Z",
     "start_time": "2024-04-11T17:08:05.444920Z"
    }
   },
   "outputs": [
    {
     "data": {
      "text/html": [
       "<div>\n",
       "<style scoped>\n",
       "    .dataframe tbody tr th:only-of-type {\n",
       "        vertical-align: middle;\n",
       "    }\n",
       "\n",
       "    .dataframe tbody tr th {\n",
       "        vertical-align: top;\n",
       "    }\n",
       "\n",
       "    .dataframe thead th {\n",
       "        text-align: right;\n",
       "    }\n",
       "</style>\n",
       "<table border=\"1\" class=\"dataframe\">\n",
       "  <thead>\n",
       "    <tr style=\"text-align: right;\">\n",
       "      <th></th>\n",
       "      <th>movie_id</th>\n",
       "      <th>title</th>\n",
       "      <th>cast</th>\n",
       "      <th>crew</th>\n",
       "    </tr>\n",
       "  </thead>\n",
       "  <tbody>\n",
       "    <tr>\n",
       "      <th>0</th>\n",
       "      <td>19995</td>\n",
       "      <td>Avatar</td>\n",
       "      <td>[{\"cast_id\": 242, \"character\": \"Jake Sully\", \"...</td>\n",
       "      <td>[{\"credit_id\": \"52fe48009251416c750aca23\", \"de...</td>\n",
       "    </tr>\n",
       "  </tbody>\n",
       "</table>\n",
       "</div>"
      ],
      "text/plain": [
       "   movie_id   title                                               cast  \\\n",
       "0     19995  Avatar  [{\"cast_id\": 242, \"character\": \"Jake Sully\", \"...   \n",
       "\n",
       "                                                crew  \n",
       "0  [{\"credit_id\": \"52fe48009251416c750aca23\", \"de...  "
      ]
     },
     "execution_count": 87,
     "metadata": {},
     "output_type": "execute_result"
    }
   ],
   "source": [
    "credits.head(1)"
   ]
  },
  {
   "cell_type": "code",
   "execution_count": 88,
   "id": "ceb48905",
   "metadata": {
    "ExecuteTime": {
     "end_time": "2024-04-11T17:08:07.545378Z",
     "start_time": "2024-04-11T17:08:07.529456Z"
    }
   },
   "outputs": [
    {
     "data": {
      "text/plain": [
       "[{'cast_id': 242,\n",
       "  'character': 'Jake Sully',\n",
       "  'credit_id': '5602a8a7c3a3685532001c9a',\n",
       "  'gender': 2,\n",
       "  'id': 65731,\n",
       "  'name': 'Sam Worthington',\n",
       "  'order': 0},\n",
       " {'cast_id': 3,\n",
       "  'character': 'Neytiri',\n",
       "  'credit_id': '52fe48009251416c750ac9cb',\n",
       "  'gender': 1,\n",
       "  'id': 8691,\n",
       "  'name': 'Zoe Saldana',\n",
       "  'order': 1},\n",
       " {'cast_id': 25,\n",
       "  'character': 'Dr. Grace Augustine',\n",
       "  'credit_id': '52fe48009251416c750aca39',\n",
       "  'gender': 1,\n",
       "  'id': 10205,\n",
       "  'name': 'Sigourney Weaver',\n",
       "  'order': 2},\n",
       " {'cast_id': 4,\n",
       "  'character': 'Col. Quaritch',\n",
       "  'credit_id': '52fe48009251416c750ac9cf',\n",
       "  'gender': 2,\n",
       "  'id': 32747,\n",
       "  'name': 'Stephen Lang',\n",
       "  'order': 3},\n",
       " {'cast_id': 5,\n",
       "  'character': 'Trudy Chacon',\n",
       "  'credit_id': '52fe48009251416c750ac9d3',\n",
       "  'gender': 1,\n",
       "  'id': 17647,\n",
       "  'name': 'Michelle Rodriguez',\n",
       "  'order': 4},\n",
       " {'cast_id': 8,\n",
       "  'character': 'Selfridge',\n",
       "  'credit_id': '52fe48009251416c750ac9e1',\n",
       "  'gender': 2,\n",
       "  'id': 1771,\n",
       "  'name': 'Giovanni Ribisi',\n",
       "  'order': 5},\n",
       " {'cast_id': 7,\n",
       "  'character': 'Norm Spellman',\n",
       "  'credit_id': '52fe48009251416c750ac9dd',\n",
       "  'gender': 2,\n",
       "  'id': 59231,\n",
       "  'name': 'Joel David Moore',\n",
       "  'order': 6},\n",
       " {'cast_id': 9,\n",
       "  'character': 'Moat',\n",
       "  'credit_id': '52fe48009251416c750ac9e5',\n",
       "  'gender': 1,\n",
       "  'id': 30485,\n",
       "  'name': 'CCH Pounder',\n",
       "  'order': 7},\n",
       " {'cast_id': 11,\n",
       "  'character': 'Eytukan',\n",
       "  'credit_id': '52fe48009251416c750ac9ed',\n",
       "  'gender': 2,\n",
       "  'id': 15853,\n",
       "  'name': 'Wes Studi',\n",
       "  'order': 8},\n",
       " {'cast_id': 10,\n",
       "  'character': \"Tsu'Tey\",\n",
       "  'credit_id': '52fe48009251416c750ac9e9',\n",
       "  'gender': 2,\n",
       "  'id': 10964,\n",
       "  'name': 'Laz Alonso',\n",
       "  'order': 9},\n",
       " {'cast_id': 12,\n",
       "  'character': 'Dr. Max Patel',\n",
       "  'credit_id': '52fe48009251416c750ac9f1',\n",
       "  'gender': 2,\n",
       "  'id': 95697,\n",
       "  'name': 'Dileep Rao',\n",
       "  'order': 10},\n",
       " {'cast_id': 13,\n",
       "  'character': 'Lyle Wainfleet',\n",
       "  'credit_id': '52fe48009251416c750ac9f5',\n",
       "  'gender': 2,\n",
       "  'id': 98215,\n",
       "  'name': 'Matt Gerald',\n",
       "  'order': 11},\n",
       " {'cast_id': 32,\n",
       "  'character': 'Private Fike',\n",
       "  'credit_id': '52fe48009251416c750aca5b',\n",
       "  'gender': 2,\n",
       "  'id': 154153,\n",
       "  'name': 'Sean Anthony Moran',\n",
       "  'order': 12},\n",
       " {'cast_id': 33,\n",
       "  'character': 'Cryo Vault Med Tech',\n",
       "  'credit_id': '52fe48009251416c750aca5f',\n",
       "  'gender': 2,\n",
       "  'id': 397312,\n",
       "  'name': 'Jason Whyte',\n",
       "  'order': 13},\n",
       " {'cast_id': 34,\n",
       "  'character': 'Venture Star Crew Chief',\n",
       "  'credit_id': '52fe48009251416c750aca63',\n",
       "  'gender': 2,\n",
       "  'id': 42317,\n",
       "  'name': 'Scott Lawrence',\n",
       "  'order': 14},\n",
       " {'cast_id': 35,\n",
       "  'character': 'Lock Up Trooper',\n",
       "  'credit_id': '52fe48009251416c750aca67',\n",
       "  'gender': 2,\n",
       "  'id': 986734,\n",
       "  'name': 'Kelly Kilgour',\n",
       "  'order': 15},\n",
       " {'cast_id': 36,\n",
       "  'character': 'Shuttle Pilot',\n",
       "  'credit_id': '52fe48009251416c750aca6b',\n",
       "  'gender': 0,\n",
       "  'id': 1207227,\n",
       "  'name': 'James Patrick Pitt',\n",
       "  'order': 16},\n",
       " {'cast_id': 37,\n",
       "  'character': 'Shuttle Co-Pilot',\n",
       "  'credit_id': '52fe48009251416c750aca6f',\n",
       "  'gender': 0,\n",
       "  'id': 1180936,\n",
       "  'name': 'Sean Patrick Murphy',\n",
       "  'order': 17},\n",
       " {'cast_id': 38,\n",
       "  'character': 'Shuttle Crew Chief',\n",
       "  'credit_id': '52fe48009251416c750aca73',\n",
       "  'gender': 2,\n",
       "  'id': 1019578,\n",
       "  'name': 'Peter Dillon',\n",
       "  'order': 18},\n",
       " {'cast_id': 39,\n",
       "  'character': 'Tractor Operator / Troupe',\n",
       "  'credit_id': '52fe48009251416c750aca77',\n",
       "  'gender': 0,\n",
       "  'id': 91443,\n",
       "  'name': 'Kevin Dorman',\n",
       "  'order': 19},\n",
       " {'cast_id': 40,\n",
       "  'character': 'Dragon Gunship Pilot',\n",
       "  'credit_id': '52fe48009251416c750aca7b',\n",
       "  'gender': 2,\n",
       "  'id': 173391,\n",
       "  'name': 'Kelson Henderson',\n",
       "  'order': 20},\n",
       " {'cast_id': 41,\n",
       "  'character': 'Dragon Gunship Gunner',\n",
       "  'credit_id': '52fe48009251416c750aca7f',\n",
       "  'gender': 0,\n",
       "  'id': 1207236,\n",
       "  'name': 'David Van Horn',\n",
       "  'order': 21},\n",
       " {'cast_id': 42,\n",
       "  'character': 'Dragon Gunship Navigator',\n",
       "  'credit_id': '52fe48009251416c750aca83',\n",
       "  'gender': 0,\n",
       "  'id': 215913,\n",
       "  'name': 'Jacob Tomuri',\n",
       "  'order': 22},\n",
       " {'cast_id': 43,\n",
       "  'character': 'Suit #1',\n",
       "  'credit_id': '52fe48009251416c750aca87',\n",
       "  'gender': 0,\n",
       "  'id': 143206,\n",
       "  'name': 'Michael Blain-Rozgay',\n",
       "  'order': 23},\n",
       " {'cast_id': 44,\n",
       "  'character': 'Suit #2',\n",
       "  'credit_id': '52fe48009251416c750aca8b',\n",
       "  'gender': 2,\n",
       "  'id': 169676,\n",
       "  'name': 'Jon Curry',\n",
       "  'order': 24},\n",
       " {'cast_id': 46,\n",
       "  'character': 'Ambient Room Tech',\n",
       "  'credit_id': '52fe48009251416c750aca8f',\n",
       "  'gender': 0,\n",
       "  'id': 1048610,\n",
       "  'name': 'Luke Hawker',\n",
       "  'order': 25},\n",
       " {'cast_id': 47,\n",
       "  'character': 'Ambient Room Tech / Troupe',\n",
       "  'credit_id': '52fe48009251416c750aca93',\n",
       "  'gender': 0,\n",
       "  'id': 42288,\n",
       "  'name': 'Woody Schultz',\n",
       "  'order': 26},\n",
       " {'cast_id': 48,\n",
       "  'character': 'Horse Clan Leader',\n",
       "  'credit_id': '52fe48009251416c750aca97',\n",
       "  'gender': 2,\n",
       "  'id': 68278,\n",
       "  'name': 'Peter Mensah',\n",
       "  'order': 27},\n",
       " {'cast_id': 49,\n",
       "  'character': 'Link Room Tech',\n",
       "  'credit_id': '52fe48009251416c750aca9b',\n",
       "  'gender': 0,\n",
       "  'id': 1207247,\n",
       "  'name': 'Sonia Yee',\n",
       "  'order': 28},\n",
       " {'cast_id': 50,\n",
       "  'character': 'Basketball Avatar / Troupe',\n",
       "  'credit_id': '52fe48009251416c750aca9f',\n",
       "  'gender': 1,\n",
       "  'id': 1207248,\n",
       "  'name': 'Jahnel Curfman',\n",
       "  'order': 29},\n",
       " {'cast_id': 51,\n",
       "  'character': 'Basketball Avatar',\n",
       "  'credit_id': '52fe48009251416c750acaa3',\n",
       "  'gender': 0,\n",
       "  'id': 89714,\n",
       "  'name': 'Ilram Choi',\n",
       "  'order': 30},\n",
       " {'cast_id': 52,\n",
       "  'character': \"Na'vi Child\",\n",
       "  'credit_id': '52fe48009251416c750acaa7',\n",
       "  'gender': 0,\n",
       "  'id': 1207249,\n",
       "  'name': 'Kyla Warren',\n",
       "  'order': 31},\n",
       " {'cast_id': 53,\n",
       "  'character': 'Troupe',\n",
       "  'credit_id': '52fe48009251416c750acaab',\n",
       "  'gender': 0,\n",
       "  'id': 1207250,\n",
       "  'name': 'Lisa Roumain',\n",
       "  'order': 32},\n",
       " {'cast_id': 54,\n",
       "  'character': 'Troupe',\n",
       "  'credit_id': '52fe48009251416c750acaaf',\n",
       "  'gender': 1,\n",
       "  'id': 83105,\n",
       "  'name': 'Debra Wilson',\n",
       "  'order': 33},\n",
       " {'cast_id': 57,\n",
       "  'character': 'Troupe',\n",
       "  'credit_id': '52fe48009251416c750acabb',\n",
       "  'gender': 0,\n",
       "  'id': 1207253,\n",
       "  'name': 'Chris Mala',\n",
       "  'order': 34},\n",
       " {'cast_id': 55,\n",
       "  'character': 'Troupe',\n",
       "  'credit_id': '52fe48009251416c750acab3',\n",
       "  'gender': 0,\n",
       "  'id': 1207251,\n",
       "  'name': 'Taylor Kibby',\n",
       "  'order': 35},\n",
       " {'cast_id': 56,\n",
       "  'character': 'Troupe',\n",
       "  'credit_id': '52fe48009251416c750acab7',\n",
       "  'gender': 0,\n",
       "  'id': 1207252,\n",
       "  'name': 'Jodie Landau',\n",
       "  'order': 36},\n",
       " {'cast_id': 58,\n",
       "  'character': 'Troupe',\n",
       "  'credit_id': '52fe48009251416c750acabf',\n",
       "  'gender': 0,\n",
       "  'id': 1207254,\n",
       "  'name': 'Julie Lamm',\n",
       "  'order': 37},\n",
       " {'cast_id': 59,\n",
       "  'character': 'Troupe',\n",
       "  'credit_id': '52fe48009251416c750acac3',\n",
       "  'gender': 0,\n",
       "  'id': 1207257,\n",
       "  'name': 'Cullen B. Madden',\n",
       "  'order': 38},\n",
       " {'cast_id': 60,\n",
       "  'character': 'Troupe',\n",
       "  'credit_id': '52fe48009251416c750acac7',\n",
       "  'gender': 0,\n",
       "  'id': 1207259,\n",
       "  'name': 'Joseph Brady Madden',\n",
       "  'order': 39},\n",
       " {'cast_id': 61,\n",
       "  'character': 'Troupe',\n",
       "  'credit_id': '52fe48009251416c750acacb',\n",
       "  'gender': 0,\n",
       "  'id': 1207262,\n",
       "  'name': 'Frankie Torres',\n",
       "  'order': 40},\n",
       " {'cast_id': 62,\n",
       "  'character': 'Troupe',\n",
       "  'credit_id': '52fe48009251416c750acacf',\n",
       "  'gender': 1,\n",
       "  'id': 1158600,\n",
       "  'name': 'Austin Wilson',\n",
       "  'order': 41},\n",
       " {'cast_id': 63,\n",
       "  'character': 'Troupe',\n",
       "  'credit_id': '52fe48019251416c750acad3',\n",
       "  'gender': 1,\n",
       "  'id': 983705,\n",
       "  'name': 'Sara Wilson',\n",
       "  'order': 42},\n",
       " {'cast_id': 64,\n",
       "  'character': 'Troupe',\n",
       "  'credit_id': '52fe48019251416c750acad7',\n",
       "  'gender': 0,\n",
       "  'id': 1207263,\n",
       "  'name': 'Tamica Washington-Miller',\n",
       "  'order': 43},\n",
       " {'cast_id': 65,\n",
       "  'character': 'Op Center Staff',\n",
       "  'credit_id': '52fe48019251416c750acadb',\n",
       "  'gender': 1,\n",
       "  'id': 1145098,\n",
       "  'name': 'Lucy Briant',\n",
       "  'order': 44},\n",
       " {'cast_id': 66,\n",
       "  'character': 'Op Center Staff',\n",
       "  'credit_id': '52fe48019251416c750acadf',\n",
       "  'gender': 2,\n",
       "  'id': 33305,\n",
       "  'name': 'Nathan Meister',\n",
       "  'order': 45},\n",
       " {'cast_id': 67,\n",
       "  'character': 'Op Center Staff',\n",
       "  'credit_id': '52fe48019251416c750acae3',\n",
       "  'gender': 0,\n",
       "  'id': 1207264,\n",
       "  'name': 'Gerry Blair',\n",
       "  'order': 46},\n",
       " {'cast_id': 68,\n",
       "  'character': 'Op Center Staff',\n",
       "  'credit_id': '52fe48019251416c750acae7',\n",
       "  'gender': 2,\n",
       "  'id': 33311,\n",
       "  'name': 'Matthew Chamberlain',\n",
       "  'order': 47},\n",
       " {'cast_id': 69,\n",
       "  'character': 'Op Center Staff',\n",
       "  'credit_id': '52fe48019251416c750acaeb',\n",
       "  'gender': 0,\n",
       "  'id': 1207265,\n",
       "  'name': 'Paul Yates',\n",
       "  'order': 48},\n",
       " {'cast_id': 70,\n",
       "  'character': 'Op Center Duty Officer',\n",
       "  'credit_id': '52fe48019251416c750acaef',\n",
       "  'gender': 0,\n",
       "  'id': 1207266,\n",
       "  'name': 'Wray Wilson',\n",
       "  'order': 49},\n",
       " {'cast_id': 71,\n",
       "  'character': 'Op Center Staff',\n",
       "  'credit_id': '52fe48019251416c750acaf3',\n",
       "  'gender': 2,\n",
       "  'id': 54492,\n",
       "  'name': 'James Gaylyn',\n",
       "  'order': 50},\n",
       " {'cast_id': 72,\n",
       "  'character': 'Dancer',\n",
       "  'credit_id': '52fe48019251416c750acaf7',\n",
       "  'gender': 0,\n",
       "  'id': 1207267,\n",
       "  'name': 'Melvin Leno Clark III',\n",
       "  'order': 51},\n",
       " {'cast_id': 73,\n",
       "  'character': 'Dancer',\n",
       "  'credit_id': '52fe48019251416c750acafb',\n",
       "  'gender': 0,\n",
       "  'id': 1207268,\n",
       "  'name': 'Carvon Futrell',\n",
       "  'order': 52},\n",
       " {'cast_id': 74,\n",
       "  'character': 'Dancer',\n",
       "  'credit_id': '52fe48019251416c750acaff',\n",
       "  'gender': 0,\n",
       "  'id': 1207269,\n",
       "  'name': 'Brandon Jelkes',\n",
       "  'order': 53},\n",
       " {'cast_id': 75,\n",
       "  'character': 'Dancer',\n",
       "  'credit_id': '52fe48019251416c750acb03',\n",
       "  'gender': 0,\n",
       "  'id': 1207270,\n",
       "  'name': 'Micah Moch',\n",
       "  'order': 54},\n",
       " {'cast_id': 76,\n",
       "  'character': 'Dancer',\n",
       "  'credit_id': '52fe48019251416c750acb07',\n",
       "  'gender': 0,\n",
       "  'id': 1207271,\n",
       "  'name': 'Hanniyah Muhammad',\n",
       "  'order': 55},\n",
       " {'cast_id': 77,\n",
       "  'character': 'Dancer',\n",
       "  'credit_id': '52fe48019251416c750acb0b',\n",
       "  'gender': 0,\n",
       "  'id': 1207272,\n",
       "  'name': 'Christopher Nolen',\n",
       "  'order': 56},\n",
       " {'cast_id': 78,\n",
       "  'character': 'Dancer',\n",
       "  'credit_id': '52fe48019251416c750acb0f',\n",
       "  'gender': 0,\n",
       "  'id': 1207273,\n",
       "  'name': 'Christa Oliver',\n",
       "  'order': 57},\n",
       " {'cast_id': 79,\n",
       "  'character': 'Dancer',\n",
       "  'credit_id': '52fe48019251416c750acb13',\n",
       "  'gender': 0,\n",
       "  'id': 1207274,\n",
       "  'name': 'April Marie Thomas',\n",
       "  'order': 58},\n",
       " {'cast_id': 80,\n",
       "  'character': 'Dancer',\n",
       "  'credit_id': '52fe48019251416c750acb17',\n",
       "  'gender': 0,\n",
       "  'id': 1207275,\n",
       "  'name': 'Bravita A. Threatt',\n",
       "  'order': 59},\n",
       " {'cast_id': 81,\n",
       "  'character': 'Mining Chief (uncredited)',\n",
       "  'credit_id': '52fe48019251416c750acb1b',\n",
       "  'gender': 0,\n",
       "  'id': 1207276,\n",
       "  'name': 'Colin Bleasdale',\n",
       "  'order': 60},\n",
       " {'cast_id': 82,\n",
       "  'character': 'Veteran Miner (uncredited)',\n",
       "  'credit_id': '52fe48019251416c750acb1f',\n",
       "  'gender': 0,\n",
       "  'id': 107969,\n",
       "  'name': 'Mike Bodnar',\n",
       "  'order': 61},\n",
       " {'cast_id': 83,\n",
       "  'character': 'Richard (uncredited)',\n",
       "  'credit_id': '52fe48019251416c750acb23',\n",
       "  'gender': 0,\n",
       "  'id': 1207278,\n",
       "  'name': 'Matt Clayton',\n",
       "  'order': 62},\n",
       " {'cast_id': 84,\n",
       "  'character': \"Nav'i (uncredited)\",\n",
       "  'credit_id': '52fe48019251416c750acb27',\n",
       "  'gender': 1,\n",
       "  'id': 147898,\n",
       "  'name': 'Nicole Dionne',\n",
       "  'order': 63},\n",
       " {'cast_id': 85,\n",
       "  'character': 'Trooper (uncredited)',\n",
       "  'credit_id': '52fe48019251416c750acb2b',\n",
       "  'gender': 0,\n",
       "  'id': 1207280,\n",
       "  'name': 'Jamie Harrison',\n",
       "  'order': 64},\n",
       " {'cast_id': 86,\n",
       "  'character': 'Trooper (uncredited)',\n",
       "  'credit_id': '52fe48019251416c750acb2f',\n",
       "  'gender': 0,\n",
       "  'id': 1207281,\n",
       "  'name': 'Allan Henry',\n",
       "  'order': 65},\n",
       " {'cast_id': 87,\n",
       "  'character': 'Ground Technician (uncredited)',\n",
       "  'credit_id': '52fe48019251416c750acb33',\n",
       "  'gender': 2,\n",
       "  'id': 1207282,\n",
       "  'name': 'Anthony Ingruber',\n",
       "  'order': 66},\n",
       " {'cast_id': 88,\n",
       "  'character': 'Flight Crew Mechanic (uncredited)',\n",
       "  'credit_id': '52fe48019251416c750acb37',\n",
       "  'gender': 0,\n",
       "  'id': 1207283,\n",
       "  'name': 'Ashley Jeffery',\n",
       "  'order': 67},\n",
       " {'cast_id': 14,\n",
       "  'character': 'Samson Pilot',\n",
       "  'credit_id': '52fe48009251416c750ac9f9',\n",
       "  'gender': 0,\n",
       "  'id': 98216,\n",
       "  'name': 'Dean Knowsley',\n",
       "  'order': 68},\n",
       " {'cast_id': 89,\n",
       "  'character': 'Trooper (uncredited)',\n",
       "  'credit_id': '52fe48019251416c750acb3b',\n",
       "  'gender': 0,\n",
       "  'id': 1201399,\n",
       "  'name': 'Joseph Mika-Hunt',\n",
       "  'order': 69},\n",
       " {'cast_id': 90,\n",
       "  'character': 'Banshee (uncredited)',\n",
       "  'credit_id': '52fe48019251416c750acb3f',\n",
       "  'gender': 0,\n",
       "  'id': 236696,\n",
       "  'name': 'Terry Notary',\n",
       "  'order': 70},\n",
       " {'cast_id': 91,\n",
       "  'character': 'Soldier (uncredited)',\n",
       "  'credit_id': '52fe48019251416c750acb43',\n",
       "  'gender': 0,\n",
       "  'id': 1207287,\n",
       "  'name': 'Kai Pantano',\n",
       "  'order': 71},\n",
       " {'cast_id': 92,\n",
       "  'character': 'Blast Technician (uncredited)',\n",
       "  'credit_id': '52fe48019251416c750acb47',\n",
       "  'gender': 0,\n",
       "  'id': 1207288,\n",
       "  'name': 'Logan Pithyou',\n",
       "  'order': 72},\n",
       " {'cast_id': 93,\n",
       "  'character': 'Vindum Raah (uncredited)',\n",
       "  'credit_id': '52fe48019251416c750acb4b',\n",
       "  'gender': 0,\n",
       "  'id': 1207289,\n",
       "  'name': 'Stuart Pollock',\n",
       "  'order': 73},\n",
       " {'cast_id': 94,\n",
       "  'character': 'Hero (uncredited)',\n",
       "  'credit_id': '52fe48019251416c750acb4f',\n",
       "  'gender': 0,\n",
       "  'id': 584868,\n",
       "  'name': 'Raja',\n",
       "  'order': 74},\n",
       " {'cast_id': 95,\n",
       "  'character': 'Ops Centreworker (uncredited)',\n",
       "  'credit_id': '52fe48019251416c750acb53',\n",
       "  'gender': 0,\n",
       "  'id': 1207290,\n",
       "  'name': 'Gareth Ruck',\n",
       "  'order': 75},\n",
       " {'cast_id': 96,\n",
       "  'character': 'Engineer (uncredited)',\n",
       "  'credit_id': '52fe48019251416c750acb57',\n",
       "  'gender': 0,\n",
       "  'id': 1062463,\n",
       "  'name': 'Rhian Sheehan',\n",
       "  'order': 76},\n",
       " {'cast_id': 97,\n",
       "  'character': \"Col. Quaritch's Mech Suit (uncredited)\",\n",
       "  'credit_id': '52fe48019251416c750acb5b',\n",
       "  'gender': 0,\n",
       "  'id': 60656,\n",
       "  'name': 'T. J. Storm',\n",
       "  'order': 77},\n",
       " {'cast_id': 98,\n",
       "  'character': 'Female Marine (uncredited)',\n",
       "  'credit_id': '52fe48019251416c750acb5f',\n",
       "  'gender': 0,\n",
       "  'id': 1207291,\n",
       "  'name': 'Jodie Taylor',\n",
       "  'order': 78},\n",
       " {'cast_id': 99,\n",
       "  'character': 'Ikran Clan Leader (uncredited)',\n",
       "  'credit_id': '52fe48019251416c750acb63',\n",
       "  'gender': 1,\n",
       "  'id': 1186027,\n",
       "  'name': 'Alicia Vela-Bailey',\n",
       "  'order': 79},\n",
       " {'cast_id': 100,\n",
       "  'character': 'Geologist (uncredited)',\n",
       "  'credit_id': '52fe48019251416c750acb67',\n",
       "  'gender': 0,\n",
       "  'id': 1207292,\n",
       "  'name': 'Richard Whiteside',\n",
       "  'order': 80},\n",
       " {'cast_id': 101,\n",
       "  'character': \"Na'vi (uncredited)\",\n",
       "  'credit_id': '52fe48019251416c750acb6b',\n",
       "  'gender': 0,\n",
       "  'id': 103259,\n",
       "  'name': 'Nikie Zambo',\n",
       "  'order': 81},\n",
       " {'cast_id': 102,\n",
       "  'character': 'Ambient Room Tech / Troupe',\n",
       "  'credit_id': '52fe48019251416c750acb6f',\n",
       "  'gender': 1,\n",
       "  'id': 42286,\n",
       "  'name': 'Julene Renee',\n",
       "  'order': 82}]"
      ]
     },
     "execution_count": 88,
     "metadata": {},
     "output_type": "execute_result"
    }
   ],
   "source": [
    "json.loads(credits.head(1)['cast'].values[0])"
   ]
  },
  {
   "cell_type": "code",
   "execution_count": 89,
   "id": "75399a72",
   "metadata": {
    "ExecuteTime": {
     "end_time": "2024-04-11T17:08:14.102959Z",
     "start_time": "2024-04-11T17:08:14.097649Z"
    }
   },
   "outputs": [
    {
     "data": {
      "text/plain": [
       "(4803, 20)"
      ]
     },
     "execution_count": 89,
     "metadata": {},
     "output_type": "execute_result"
    }
   ],
   "source": [
    "movies.shape"
   ]
  },
  {
   "cell_type": "code",
   "execution_count": 90,
   "id": "6c658c33",
   "metadata": {
    "ExecuteTime": {
     "end_time": "2024-04-11T17:08:16.984860Z",
     "start_time": "2024-04-11T17:08:16.980030Z"
    }
   },
   "outputs": [
    {
     "data": {
      "text/plain": [
       "(4803, 4)"
      ]
     },
     "execution_count": 90,
     "metadata": {},
     "output_type": "execute_result"
    }
   ],
   "source": [
    "credits.shape"
   ]
  },
  {
   "cell_type": "markdown",
   "id": "f0211fad",
   "metadata": {},
   "source": [
    "### Merge movies and credits datasets"
   ]
  },
  {
   "cell_type": "code",
   "execution_count": 91,
   "id": "605f2431",
   "metadata": {
    "ExecuteTime": {
     "end_time": "2024-04-11T17:08:42.425737Z",
     "start_time": "2024-04-11T17:08:42.409816Z"
    }
   },
   "outputs": [],
   "source": [
    "movies = movies.merge(credits, on='title')"
   ]
  },
  {
   "cell_type": "code",
   "execution_count": 92,
   "id": "a74a0b18",
   "metadata": {
    "ExecuteTime": {
     "end_time": "2024-04-11T17:08:42.621733Z",
     "start_time": "2024-04-11T17:08:42.617049Z"
    }
   },
   "outputs": [
    {
     "data": {
      "text/plain": [
       "(4809, 23)"
      ]
     },
     "execution_count": 92,
     "metadata": {},
     "output_type": "execute_result"
    }
   ],
   "source": [
    "movies.shape"
   ]
  },
  {
   "cell_type": "code",
   "execution_count": 93,
   "id": "930fb2e1",
   "metadata": {
    "ExecuteTime": {
     "end_time": "2024-04-11T17:08:43.118453Z",
     "start_time": "2024-04-11T17:08:43.105467Z"
    },
    "scrolled": true
   },
   "outputs": [
    {
     "data": {
      "text/html": [
       "<div>\n",
       "<style scoped>\n",
       "    .dataframe tbody tr th:only-of-type {\n",
       "        vertical-align: middle;\n",
       "    }\n",
       "\n",
       "    .dataframe tbody tr th {\n",
       "        vertical-align: top;\n",
       "    }\n",
       "\n",
       "    .dataframe thead th {\n",
       "        text-align: right;\n",
       "    }\n",
       "</style>\n",
       "<table border=\"1\" class=\"dataframe\">\n",
       "  <thead>\n",
       "    <tr style=\"text-align: right;\">\n",
       "      <th></th>\n",
       "      <th>budget</th>\n",
       "      <th>genres</th>\n",
       "      <th>homepage</th>\n",
       "      <th>ratingId</th>\n",
       "      <th>keywords</th>\n",
       "      <th>original_language</th>\n",
       "      <th>original_title</th>\n",
       "      <th>overview</th>\n",
       "      <th>popularity</th>\n",
       "      <th>production_companies</th>\n",
       "      <th>...</th>\n",
       "      <th>runtime</th>\n",
       "      <th>spoken_languages</th>\n",
       "      <th>status</th>\n",
       "      <th>tagline</th>\n",
       "      <th>title</th>\n",
       "      <th>vote_average</th>\n",
       "      <th>vote_count</th>\n",
       "      <th>movie_id</th>\n",
       "      <th>cast</th>\n",
       "      <th>crew</th>\n",
       "    </tr>\n",
       "  </thead>\n",
       "  <tbody>\n",
       "    <tr>\n",
       "      <th>0</th>\n",
       "      <td>237000000</td>\n",
       "      <td>[{\"id\": 28, \"name\": \"Action\"}, {\"id\": 12, \"nam...</td>\n",
       "      <td>http://www.avatarmovie.com/</td>\n",
       "      <td>19995</td>\n",
       "      <td>[{\"id\": 1463, \"name\": \"culture clash\"}, {\"id\":...</td>\n",
       "      <td>en</td>\n",
       "      <td>Avatar</td>\n",
       "      <td>In the 22nd century, a paraplegic Marine is di...</td>\n",
       "      <td>150.437577</td>\n",
       "      <td>[{\"name\": \"Ingenious Film Partners\", \"id\": 289...</td>\n",
       "      <td>...</td>\n",
       "      <td>162.0</td>\n",
       "      <td>[{\"iso_639_1\": \"en\", \"name\": \"English\"}, {\"iso...</td>\n",
       "      <td>Released</td>\n",
       "      <td>Enter the World of Pandora.</td>\n",
       "      <td>Avatar</td>\n",
       "      <td>7.2</td>\n",
       "      <td>11800</td>\n",
       "      <td>19995</td>\n",
       "      <td>[{\"cast_id\": 242, \"character\": \"Jake Sully\", \"...</td>\n",
       "      <td>[{\"credit_id\": \"52fe48009251416c750aca23\", \"de...</td>\n",
       "    </tr>\n",
       "  </tbody>\n",
       "</table>\n",
       "<p>1 rows × 23 columns</p>\n",
       "</div>"
      ],
      "text/plain": [
       "      budget                                             genres  \\\n",
       "0  237000000  [{\"id\": 28, \"name\": \"Action\"}, {\"id\": 12, \"nam...   \n",
       "\n",
       "                      homepage  ratingId  \\\n",
       "0  http://www.avatarmovie.com/     19995   \n",
       "\n",
       "                                            keywords original_language  \\\n",
       "0  [{\"id\": 1463, \"name\": \"culture clash\"}, {\"id\":...                en   \n",
       "\n",
       "  original_title                                           overview  \\\n",
       "0         Avatar  In the 22nd century, a paraplegic Marine is di...   \n",
       "\n",
       "   popularity                               production_companies  ... runtime  \\\n",
       "0  150.437577  [{\"name\": \"Ingenious Film Partners\", \"id\": 289...  ...   162.0   \n",
       "\n",
       "                                    spoken_languages    status  \\\n",
       "0  [{\"iso_639_1\": \"en\", \"name\": \"English\"}, {\"iso...  Released   \n",
       "\n",
       "                       tagline   title vote_average vote_count movie_id  \\\n",
       "0  Enter the World of Pandora.  Avatar          7.2      11800    19995   \n",
       "\n",
       "                                                cast  \\\n",
       "0  [{\"cast_id\": 242, \"character\": \"Jake Sully\", \"...   \n",
       "\n",
       "                                                crew  \n",
       "0  [{\"credit_id\": \"52fe48009251416c750aca23\", \"de...  \n",
       "\n",
       "[1 rows x 23 columns]"
      ]
     },
     "execution_count": 93,
     "metadata": {},
     "output_type": "execute_result"
    }
   ],
   "source": [
    "movies.head(1)"
   ]
  },
  {
   "cell_type": "code",
   "execution_count": 94,
   "id": "dda28661",
   "metadata": {
    "ExecuteTime": {
     "end_time": "2024-04-11T17:08:43.671196Z",
     "start_time": "2024-04-11T17:08:43.658513Z"
    }
   },
   "outputs": [
    {
     "name": "stdout",
     "output_type": "stream",
     "text": [
      "<class 'pandas.core.frame.DataFrame'>\n",
      "RangeIndex: 4809 entries, 0 to 4808\n",
      "Data columns (total 23 columns):\n",
      " #   Column                Non-Null Count  Dtype  \n",
      "---  ------                --------------  -----  \n",
      " 0   budget                4809 non-null   int64  \n",
      " 1   genres                4809 non-null   object \n",
      " 2   homepage              1713 non-null   object \n",
      " 3   ratingId              4809 non-null   int64  \n",
      " 4   keywords              4809 non-null   object \n",
      " 5   original_language     4809 non-null   object \n",
      " 6   original_title        4809 non-null   object \n",
      " 7   overview              4806 non-null   object \n",
      " 8   popularity            4809 non-null   float64\n",
      " 9   production_companies  4809 non-null   object \n",
      " 10  production_countries  4809 non-null   object \n",
      " 11  release_date          4808 non-null   object \n",
      " 12  revenue               4809 non-null   int64  \n",
      " 13  runtime               4807 non-null   float64\n",
      " 14  spoken_languages      4809 non-null   object \n",
      " 15  status                4809 non-null   object \n",
      " 16  tagline               3965 non-null   object \n",
      " 17  title                 4809 non-null   object \n",
      " 18  vote_average          4809 non-null   float64\n",
      " 19  vote_count            4809 non-null   int64  \n",
      " 20  movie_id              4809 non-null   int64  \n",
      " 21  cast                  4809 non-null   object \n",
      " 22  crew                  4809 non-null   object \n",
      "dtypes: float64(3), int64(5), object(15)\n",
      "memory usage: 864.2+ KB\n"
     ]
    }
   ],
   "source": [
    "movies.info()"
   ]
  },
  {
   "cell_type": "markdown",
   "id": "320a9738",
   "metadata": {},
   "source": [
    "### Columns that are relevant to the recommender system are:\n",
    "- genres\n",
    "- ratingId\n",
    "- keywords\n",
    "- title\n",
    "- overview\n",
    "- cast\n",
    "- crew"
   ]
  },
  {
   "cell_type": "code",
   "execution_count": 95,
   "id": "6a9f95a2",
   "metadata": {
    "ExecuteTime": {
     "end_time": "2024-04-11T17:08:44.764966Z",
     "start_time": "2024-04-11T17:08:44.760043Z"
    }
   },
   "outputs": [],
   "source": [
    "movies = movies[['ratingId','title','overview','genres','keywords','cast','crew']]"
   ]
  },
  {
   "cell_type": "code",
   "execution_count": 96,
   "id": "142928ba",
   "metadata": {
    "ExecuteTime": {
     "end_time": "2024-04-11T17:08:45.339159Z",
     "start_time": "2024-04-11T17:08:45.328588Z"
    }
   },
   "outputs": [
    {
     "data": {
      "text/html": [
       "<div>\n",
       "<style scoped>\n",
       "    .dataframe tbody tr th:only-of-type {\n",
       "        vertical-align: middle;\n",
       "    }\n",
       "\n",
       "    .dataframe tbody tr th {\n",
       "        vertical-align: top;\n",
       "    }\n",
       "\n",
       "    .dataframe thead th {\n",
       "        text-align: right;\n",
       "    }\n",
       "</style>\n",
       "<table border=\"1\" class=\"dataframe\">\n",
       "  <thead>\n",
       "    <tr style=\"text-align: right;\">\n",
       "      <th></th>\n",
       "      <th>ratingId</th>\n",
       "      <th>title</th>\n",
       "      <th>overview</th>\n",
       "      <th>genres</th>\n",
       "      <th>keywords</th>\n",
       "      <th>cast</th>\n",
       "      <th>crew</th>\n",
       "    </tr>\n",
       "  </thead>\n",
       "  <tbody>\n",
       "    <tr>\n",
       "      <th>0</th>\n",
       "      <td>19995</td>\n",
       "      <td>Avatar</td>\n",
       "      <td>In the 22nd century, a paraplegic Marine is di...</td>\n",
       "      <td>[{\"id\": 28, \"name\": \"Action\"}, {\"id\": 12, \"nam...</td>\n",
       "      <td>[{\"id\": 1463, \"name\": \"culture clash\"}, {\"id\":...</td>\n",
       "      <td>[{\"cast_id\": 242, \"character\": \"Jake Sully\", \"...</td>\n",
       "      <td>[{\"credit_id\": \"52fe48009251416c750aca23\", \"de...</td>\n",
       "    </tr>\n",
       "    <tr>\n",
       "      <th>1</th>\n",
       "      <td>285</td>\n",
       "      <td>Pirates of the Caribbean: At World's End</td>\n",
       "      <td>Captain Barbossa, long believed to be dead, ha...</td>\n",
       "      <td>[{\"id\": 12, \"name\": \"Adventure\"}, {\"id\": 14, \"...</td>\n",
       "      <td>[{\"id\": 270, \"name\": \"ocean\"}, {\"id\": 726, \"na...</td>\n",
       "      <td>[{\"cast_id\": 4, \"character\": \"Captain Jack Spa...</td>\n",
       "      <td>[{\"credit_id\": \"52fe4232c3a36847f800b579\", \"de...</td>\n",
       "    </tr>\n",
       "    <tr>\n",
       "      <th>2</th>\n",
       "      <td>206647</td>\n",
       "      <td>Spectre</td>\n",
       "      <td>A cryptic message from Bond’s past sends him o...</td>\n",
       "      <td>[{\"id\": 28, \"name\": \"Action\"}, {\"id\": 12, \"nam...</td>\n",
       "      <td>[{\"id\": 470, \"name\": \"spy\"}, {\"id\": 818, \"name...</td>\n",
       "      <td>[{\"cast_id\": 1, \"character\": \"James Bond\", \"cr...</td>\n",
       "      <td>[{\"credit_id\": \"54805967c3a36829b5002c41\", \"de...</td>\n",
       "    </tr>\n",
       "    <tr>\n",
       "      <th>3</th>\n",
       "      <td>49026</td>\n",
       "      <td>The Dark Knight Rises</td>\n",
       "      <td>Following the death of District Attorney Harve...</td>\n",
       "      <td>[{\"id\": 28, \"name\": \"Action\"}, {\"id\": 80, \"nam...</td>\n",
       "      <td>[{\"id\": 849, \"name\": \"dc comics\"}, {\"id\": 853,...</td>\n",
       "      <td>[{\"cast_id\": 2, \"character\": \"Bruce Wayne / Ba...</td>\n",
       "      <td>[{\"credit_id\": \"52fe4781c3a36847f81398c3\", \"de...</td>\n",
       "    </tr>\n",
       "    <tr>\n",
       "      <th>4</th>\n",
       "      <td>49529</td>\n",
       "      <td>John Carter</td>\n",
       "      <td>John Carter is a war-weary, former military ca...</td>\n",
       "      <td>[{\"id\": 28, \"name\": \"Action\"}, {\"id\": 12, \"nam...</td>\n",
       "      <td>[{\"id\": 818, \"name\": \"based on novel\"}, {\"id\":...</td>\n",
       "      <td>[{\"cast_id\": 5, \"character\": \"John Carter\", \"c...</td>\n",
       "      <td>[{\"credit_id\": \"52fe479ac3a36847f813eaa3\", \"de...</td>\n",
       "    </tr>\n",
       "  </tbody>\n",
       "</table>\n",
       "</div>"
      ],
      "text/plain": [
       "   ratingId                                     title  \\\n",
       "0     19995                                    Avatar   \n",
       "1       285  Pirates of the Caribbean: At World's End   \n",
       "2    206647                                   Spectre   \n",
       "3     49026                     The Dark Knight Rises   \n",
       "4     49529                               John Carter   \n",
       "\n",
       "                                            overview  \\\n",
       "0  In the 22nd century, a paraplegic Marine is di...   \n",
       "1  Captain Barbossa, long believed to be dead, ha...   \n",
       "2  A cryptic message from Bond’s past sends him o...   \n",
       "3  Following the death of District Attorney Harve...   \n",
       "4  John Carter is a war-weary, former military ca...   \n",
       "\n",
       "                                              genres  \\\n",
       "0  [{\"id\": 28, \"name\": \"Action\"}, {\"id\": 12, \"nam...   \n",
       "1  [{\"id\": 12, \"name\": \"Adventure\"}, {\"id\": 14, \"...   \n",
       "2  [{\"id\": 28, \"name\": \"Action\"}, {\"id\": 12, \"nam...   \n",
       "3  [{\"id\": 28, \"name\": \"Action\"}, {\"id\": 80, \"nam...   \n",
       "4  [{\"id\": 28, \"name\": \"Action\"}, {\"id\": 12, \"nam...   \n",
       "\n",
       "                                            keywords  \\\n",
       "0  [{\"id\": 1463, \"name\": \"culture clash\"}, {\"id\":...   \n",
       "1  [{\"id\": 270, \"name\": \"ocean\"}, {\"id\": 726, \"na...   \n",
       "2  [{\"id\": 470, \"name\": \"spy\"}, {\"id\": 818, \"name...   \n",
       "3  [{\"id\": 849, \"name\": \"dc comics\"}, {\"id\": 853,...   \n",
       "4  [{\"id\": 818, \"name\": \"based on novel\"}, {\"id\":...   \n",
       "\n",
       "                                                cast  \\\n",
       "0  [{\"cast_id\": 242, \"character\": \"Jake Sully\", \"...   \n",
       "1  [{\"cast_id\": 4, \"character\": \"Captain Jack Spa...   \n",
       "2  [{\"cast_id\": 1, \"character\": \"James Bond\", \"cr...   \n",
       "3  [{\"cast_id\": 2, \"character\": \"Bruce Wayne / Ba...   \n",
       "4  [{\"cast_id\": 5, \"character\": \"John Carter\", \"c...   \n",
       "\n",
       "                                                crew  \n",
       "0  [{\"credit_id\": \"52fe48009251416c750aca23\", \"de...  \n",
       "1  [{\"credit_id\": \"52fe4232c3a36847f800b579\", \"de...  \n",
       "2  [{\"credit_id\": \"54805967c3a36829b5002c41\", \"de...  \n",
       "3  [{\"credit_id\": \"52fe4781c3a36847f81398c3\", \"de...  \n",
       "4  [{\"credit_id\": \"52fe479ac3a36847f813eaa3\", \"de...  "
      ]
     },
     "execution_count": 96,
     "metadata": {},
     "output_type": "execute_result"
    }
   ],
   "source": [
    "movies.head()"
   ]
  },
  {
   "cell_type": "code",
   "execution_count": 97,
   "id": "2218dab6",
   "metadata": {
    "ExecuteTime": {
     "end_time": "2024-04-11T17:08:45.788926Z",
     "start_time": "2024-04-11T17:08:45.780805Z"
    }
   },
   "outputs": [
    {
     "data": {
      "text/plain": [
       "ratingId    0\n",
       "title       0\n",
       "overview    3\n",
       "genres      0\n",
       "keywords    0\n",
       "cast        0\n",
       "crew        0\n",
       "dtype: int64"
      ]
     },
     "execution_count": 97,
     "metadata": {},
     "output_type": "execute_result"
    }
   ],
   "source": [
    "movies.isnull().sum()"
   ]
  },
  {
   "cell_type": "code",
   "execution_count": 98,
   "id": "e733aed5",
   "metadata": {
    "ExecuteTime": {
     "end_time": "2024-04-11T17:08:46.373513Z",
     "start_time": "2024-04-11T17:08:46.366307Z"
    }
   },
   "outputs": [],
   "source": [
    "movies = movies.dropna()"
   ]
  },
  {
   "cell_type": "code",
   "execution_count": 99,
   "id": "011fec47",
   "metadata": {
    "ExecuteTime": {
     "end_time": "2024-04-11T17:08:46.870852Z",
     "start_time": "2024-04-11T17:08:46.862713Z"
    }
   },
   "outputs": [
    {
     "data": {
      "text/plain": [
       "ratingId    0\n",
       "title       0\n",
       "overview    0\n",
       "genres      0\n",
       "keywords    0\n",
       "cast        0\n",
       "crew        0\n",
       "dtype: int64"
      ]
     },
     "execution_count": 99,
     "metadata": {},
     "output_type": "execute_result"
    }
   ],
   "source": [
    "movies.isnull().sum()"
   ]
  },
  {
   "cell_type": "code",
   "execution_count": 100,
   "id": "32a2e2fb",
   "metadata": {
    "ExecuteTime": {
     "end_time": "2024-04-11T17:08:47.422761Z",
     "start_time": "2024-04-11T17:08:47.332013Z"
    }
   },
   "outputs": [
    {
     "data": {
      "text/plain": [
       "0"
      ]
     },
     "execution_count": 100,
     "metadata": {},
     "output_type": "execute_result"
    }
   ],
   "source": [
    "movies.duplicated().sum()"
   ]
  },
  {
   "cell_type": "code",
   "execution_count": 101,
   "id": "0f3025bb",
   "metadata": {
    "ExecuteTime": {
     "end_time": "2024-04-11T17:08:48.412015Z",
     "start_time": "2024-04-11T17:08:48.326518Z"
    }
   },
   "outputs": [],
   "source": [
    "movies = movies.drop_duplicates()"
   ]
  },
  {
   "cell_type": "code",
   "execution_count": 102,
   "id": "c5e425a9",
   "metadata": {
    "ExecuteTime": {
     "end_time": "2024-04-11T17:08:48.754199Z",
     "start_time": "2024-04-11T17:08:48.748973Z"
    }
   },
   "outputs": [
    {
     "data": {
      "text/plain": [
       "'[{\"id\": 28, \"name\": \"Action\"}, {\"id\": 12, \"name\": \"Adventure\"}, {\"id\": 14, \"name\": \"Fantasy\"}, {\"id\": 878, \"name\": \"Science Fiction\"}]'"
      ]
     },
     "execution_count": 102,
     "metadata": {},
     "output_type": "execute_result"
    }
   ],
   "source": [
    "movies['genres'][0]"
   ]
  },
  {
   "cell_type": "code",
   "execution_count": 103,
   "id": "2a4386f5",
   "metadata": {
    "ExecuteTime": {
     "end_time": "2024-04-11T17:08:49.340505Z",
     "start_time": "2024-04-11T17:08:49.335066Z"
    }
   },
   "outputs": [
    {
     "data": {
      "text/plain": [
       "[{'id': 28, 'name': 'Action'},\n",
       " {'id': 12, 'name': 'Adventure'},\n",
       " {'id': 14, 'name': 'Fantasy'},\n",
       " {'id': 878, 'name': 'Science Fiction'}]"
      ]
     },
     "execution_count": 103,
     "metadata": {},
     "output_type": "execute_result"
    }
   ],
   "source": [
    "import ast\n",
    "ast.literal_eval('[{\"id\": 28, \"name\": \"Action\"}, {\"id\": 12, \"name\": \"Adventure\"}, {\"id\": 14, \"name\": \"Fantasy\"}, {\"id\": 878, \"name\": \"Science Fiction\"}]')"
   ]
  },
  {
   "cell_type": "code",
   "execution_count": 104,
   "id": "7f14600c",
   "metadata": {
    "ExecuteTime": {
     "end_time": "2024-04-11T17:08:49.923064Z",
     "start_time": "2024-04-11T17:08:49.919631Z"
    }
   },
   "outputs": [],
   "source": [
    "# function for converting dictionary of genres/keywords to list\n",
    "\n",
    "def convert(obj):\n",
    "    lst = []\n",
    "    for i in ast.literal_eval(obj):\n",
    "        lst.append(i['name'])\n",
    "    return lst"
   ]
  },
  {
   "cell_type": "code",
   "execution_count": 105,
   "id": "0328ccbe",
   "metadata": {
    "ExecuteTime": {
     "end_time": "2024-04-11T17:08:50.544625Z",
     "start_time": "2024-04-11T17:08:50.426166Z"
    }
   },
   "outputs": [],
   "source": [
    "movies['genres'] = movies['genres'].apply(convert)"
   ]
  },
  {
   "cell_type": "code",
   "execution_count": 106,
   "id": "002f8f31",
   "metadata": {
    "ExecuteTime": {
     "end_time": "2024-04-11T17:08:50.956786Z",
     "start_time": "2024-04-11T17:08:50.949391Z"
    }
   },
   "outputs": [
    {
     "data": {
      "text/html": [
       "<div>\n",
       "<style scoped>\n",
       "    .dataframe tbody tr th:only-of-type {\n",
       "        vertical-align: middle;\n",
       "    }\n",
       "\n",
       "    .dataframe tbody tr th {\n",
       "        vertical-align: top;\n",
       "    }\n",
       "\n",
       "    .dataframe thead th {\n",
       "        text-align: right;\n",
       "    }\n",
       "</style>\n",
       "<table border=\"1\" class=\"dataframe\">\n",
       "  <thead>\n",
       "    <tr style=\"text-align: right;\">\n",
       "      <th></th>\n",
       "      <th>ratingId</th>\n",
       "      <th>title</th>\n",
       "      <th>overview</th>\n",
       "      <th>genres</th>\n",
       "      <th>keywords</th>\n",
       "      <th>cast</th>\n",
       "      <th>crew</th>\n",
       "    </tr>\n",
       "  </thead>\n",
       "  <tbody>\n",
       "    <tr>\n",
       "      <th>0</th>\n",
       "      <td>19995</td>\n",
       "      <td>Avatar</td>\n",
       "      <td>In the 22nd century, a paraplegic Marine is di...</td>\n",
       "      <td>[Action, Adventure, Fantasy, Science Fiction]</td>\n",
       "      <td>[{\"id\": 1463, \"name\": \"culture clash\"}, {\"id\":...</td>\n",
       "      <td>[{\"cast_id\": 242, \"character\": \"Jake Sully\", \"...</td>\n",
       "      <td>[{\"credit_id\": \"52fe48009251416c750aca23\", \"de...</td>\n",
       "    </tr>\n",
       "  </tbody>\n",
       "</table>\n",
       "</div>"
      ],
      "text/plain": [
       "   ratingId   title                                           overview  \\\n",
       "0     19995  Avatar  In the 22nd century, a paraplegic Marine is di...   \n",
       "\n",
       "                                          genres  \\\n",
       "0  [Action, Adventure, Fantasy, Science Fiction]   \n",
       "\n",
       "                                            keywords  \\\n",
       "0  [{\"id\": 1463, \"name\": \"culture clash\"}, {\"id\":...   \n",
       "\n",
       "                                                cast  \\\n",
       "0  [{\"cast_id\": 242, \"character\": \"Jake Sully\", \"...   \n",
       "\n",
       "                                                crew  \n",
       "0  [{\"credit_id\": \"52fe48009251416c750aca23\", \"de...  "
      ]
     },
     "execution_count": 106,
     "metadata": {},
     "output_type": "execute_result"
    }
   ],
   "source": [
    "movies.head(1)"
   ]
  },
  {
   "cell_type": "code",
   "execution_count": 107,
   "id": "803214e3",
   "metadata": {
    "ExecuteTime": {
     "end_time": "2024-04-11T17:08:51.803398Z",
     "start_time": "2024-04-11T17:08:51.496117Z"
    }
   },
   "outputs": [],
   "source": [
    "movies['keywords'] = movies['keywords'].apply(convert)"
   ]
  },
  {
   "cell_type": "code",
   "execution_count": 108,
   "id": "d55e58ef",
   "metadata": {
    "ExecuteTime": {
     "end_time": "2024-04-11T17:08:51.996973Z",
     "start_time": "2024-04-11T17:08:51.987287Z"
    }
   },
   "outputs": [
    {
     "data": {
      "text/html": [
       "<div>\n",
       "<style scoped>\n",
       "    .dataframe tbody tr th:only-of-type {\n",
       "        vertical-align: middle;\n",
       "    }\n",
       "\n",
       "    .dataframe tbody tr th {\n",
       "        vertical-align: top;\n",
       "    }\n",
       "\n",
       "    .dataframe thead th {\n",
       "        text-align: right;\n",
       "    }\n",
       "</style>\n",
       "<table border=\"1\" class=\"dataframe\">\n",
       "  <thead>\n",
       "    <tr style=\"text-align: right;\">\n",
       "      <th></th>\n",
       "      <th>ratingId</th>\n",
       "      <th>title</th>\n",
       "      <th>overview</th>\n",
       "      <th>genres</th>\n",
       "      <th>keywords</th>\n",
       "      <th>cast</th>\n",
       "      <th>crew</th>\n",
       "    </tr>\n",
       "  </thead>\n",
       "  <tbody>\n",
       "    <tr>\n",
       "      <th>0</th>\n",
       "      <td>19995</td>\n",
       "      <td>Avatar</td>\n",
       "      <td>In the 22nd century, a paraplegic Marine is di...</td>\n",
       "      <td>[Action, Adventure, Fantasy, Science Fiction]</td>\n",
       "      <td>[culture clash, future, space war, space colon...</td>\n",
       "      <td>[{\"cast_id\": 242, \"character\": \"Jake Sully\", \"...</td>\n",
       "      <td>[{\"credit_id\": \"52fe48009251416c750aca23\", \"de...</td>\n",
       "    </tr>\n",
       "  </tbody>\n",
       "</table>\n",
       "</div>"
      ],
      "text/plain": [
       "   ratingId   title                                           overview  \\\n",
       "0     19995  Avatar  In the 22nd century, a paraplegic Marine is di...   \n",
       "\n",
       "                                          genres  \\\n",
       "0  [Action, Adventure, Fantasy, Science Fiction]   \n",
       "\n",
       "                                            keywords  \\\n",
       "0  [culture clash, future, space war, space colon...   \n",
       "\n",
       "                                                cast  \\\n",
       "0  [{\"cast_id\": 242, \"character\": \"Jake Sully\", \"...   \n",
       "\n",
       "                                                crew  \n",
       "0  [{\"credit_id\": \"52fe48009251416c750aca23\", \"de...  "
      ]
     },
     "execution_count": 108,
     "metadata": {},
     "output_type": "execute_result"
    }
   ],
   "source": [
    "movies.head(1)"
   ]
  },
  {
   "cell_type": "code",
   "execution_count": 109,
   "id": "8cd1d7ea",
   "metadata": {
    "ExecuteTime": {
     "end_time": "2024-04-11T17:08:52.527497Z",
     "start_time": "2024-04-11T17:08:52.523837Z"
    }
   },
   "outputs": [],
   "source": [
    "def convert2(obj):\n",
    "    lst = []\n",
    "    for i in ast.literal_eval(obj)[:5]:\n",
    "        lst.append(i['name'])\n",
    "    return lst"
   ]
  },
  {
   "cell_type": "code",
   "execution_count": 110,
   "id": "e8f3b61b",
   "metadata": {
    "ExecuteTime": {
     "end_time": "2024-04-11T17:08:55.764358Z",
     "start_time": "2024-04-11T17:08:53.082885Z"
    }
   },
   "outputs": [],
   "source": [
    "movies['cast'] = movies['cast'].apply(convert2)"
   ]
  },
  {
   "cell_type": "code",
   "execution_count": 111,
   "id": "313d4262",
   "metadata": {
    "ExecuteTime": {
     "end_time": "2024-04-11T17:08:55.803252Z",
     "start_time": "2024-04-11T17:08:55.791463Z"
    }
   },
   "outputs": [
    {
     "data": {
      "text/html": [
       "<div>\n",
       "<style scoped>\n",
       "    .dataframe tbody tr th:only-of-type {\n",
       "        vertical-align: middle;\n",
       "    }\n",
       "\n",
       "    .dataframe tbody tr th {\n",
       "        vertical-align: top;\n",
       "    }\n",
       "\n",
       "    .dataframe thead th {\n",
       "        text-align: right;\n",
       "    }\n",
       "</style>\n",
       "<table border=\"1\" class=\"dataframe\">\n",
       "  <thead>\n",
       "    <tr style=\"text-align: right;\">\n",
       "      <th></th>\n",
       "      <th>ratingId</th>\n",
       "      <th>title</th>\n",
       "      <th>overview</th>\n",
       "      <th>genres</th>\n",
       "      <th>keywords</th>\n",
       "      <th>cast</th>\n",
       "      <th>crew</th>\n",
       "    </tr>\n",
       "  </thead>\n",
       "  <tbody>\n",
       "    <tr>\n",
       "      <th>0</th>\n",
       "      <td>19995</td>\n",
       "      <td>Avatar</td>\n",
       "      <td>In the 22nd century, a paraplegic Marine is di...</td>\n",
       "      <td>[Action, Adventure, Fantasy, Science Fiction]</td>\n",
       "      <td>[culture clash, future, space war, space colon...</td>\n",
       "      <td>[Sam Worthington, Zoe Saldana, Sigourney Weaver]</td>\n",
       "      <td>[{\"credit_id\": \"52fe48009251416c750aca23\", \"de...</td>\n",
       "    </tr>\n",
       "  </tbody>\n",
       "</table>\n",
       "</div>"
      ],
      "text/plain": [
       "   ratingId   title                                           overview  \\\n",
       "0     19995  Avatar  In the 22nd century, a paraplegic Marine is di...   \n",
       "\n",
       "                                          genres  \\\n",
       "0  [Action, Adventure, Fantasy, Science Fiction]   \n",
       "\n",
       "                                            keywords  \\\n",
       "0  [culture clash, future, space war, space colon...   \n",
       "\n",
       "                                               cast  \\\n",
       "0  [Sam Worthington, Zoe Saldana, Sigourney Weaver]   \n",
       "\n",
       "                                                crew  \n",
       "0  [{\"credit_id\": \"52fe48009251416c750aca23\", \"de...  "
      ]
     },
     "execution_count": 111,
     "metadata": {},
     "output_type": "execute_result"
    }
   ],
   "source": [
    "movies.head(1)"
   ]
  },
  {
   "cell_type": "code",
   "execution_count": 112,
   "id": "85ec3f29",
   "metadata": {
    "ExecuteTime": {
     "end_time": "2024-04-11T17:08:56.800791Z",
     "start_time": "2024-04-11T17:08:56.792549Z"
    }
   },
   "outputs": [
    {
     "name": "stdout",
     "output_type": "stream",
     "text": [
      "Editor\n",
      "Production Design\n",
      "Sound Designer\n",
      "Supervising Sound Editor\n",
      "Casting\n",
      "Original Music Composer\n",
      "Director\n",
      "Writer\n",
      "Editor\n",
      "Producer\n",
      "Screenplay\n",
      "Art Direction\n",
      "Visual Effects Producer\n",
      "Casting\n",
      "Supervising Art Director\n",
      "Music Editor\n",
      "Sound Effects Editor\n",
      "Foley\n",
      "Foley\n",
      "Costume Design\n",
      "Producer\n",
      "Art Direction\n",
      "Set Decoration\n",
      "Supervising Art Director\n",
      "Set Designer\n",
      "Executive Producer\n",
      "Costume Design\n",
      "Director of Photography\n",
      "Set Designer\n",
      "Stunts\n",
      "Makeup Artist\n",
      "Hairstylist\n",
      "Camera Operator\n",
      "Art Direction\n",
      "Visual Effects Supervisor\n",
      "Visual Effects Editor\n",
      "Editor\n",
      "Set Designer\n",
      "Director of Photography\n",
      "Stunts\n",
      "Visual Effects Supervisor\n",
      "Dialect Coach\n",
      "Art Direction\n",
      "Art Direction\n",
      "Art Direction\n",
      "Motion Capture Artist\n",
      "Stunt Coordinator\n",
      "Visual Effects Supervisor\n",
      "Supervising Art Director\n",
      "Supervising Art Director\n",
      "Casting\n",
      "Production Design\n",
      "Costume Design\n",
      "Steadicam Operator\n",
      "Makeup Department Head\n",
      "Visual Effects Producer\n",
      "Visual Effects Supervisor\n",
      "Post Production Supervisor\n",
      "Visual Effects Supervisor\n",
      "Makeup Artist\n",
      "Costume Supervisor\n",
      "Visual Effects Supervisor\n",
      "Art Direction\n",
      "Costume Supervisor\n",
      "Costume Supervisor\n",
      "Costume Supervisor\n",
      "Set Designer\n",
      "Set Designer\n",
      "Dialogue Editor\n",
      "Set Designer\n",
      "Transportation Coordinator\n",
      "Transportation Coordinator\n",
      "Supervising Sound Editor\n",
      "Set Designer\n",
      "Set Designer\n",
      "Set Designer\n",
      "Set Designer\n",
      "Set Designer\n",
      "Art Department Coordinator\n",
      "Set Designer\n",
      "Assistant Art Director\n",
      "Construction Coordinator\n",
      "Assistant Art Director\n",
      "Dialogue Editor\n",
      "Dialogue Editor\n",
      "Supervising Sound Editor\n",
      "Sound Re-Recording Mixer\n",
      "Choreographer\n",
      "Visual Effects Producer\n",
      "Visual Effects Supervisor\n",
      "Visual Effects Supervisor\n",
      "Sound Effects Editor\n",
      "CG Supervisor\n",
      "Visual Effects Editor\n",
      "Visual Effects Supervisor\n",
      "Digital Intermediate\n",
      "Visual Effects Supervisor\n",
      "Steadicam Operator\n",
      "Sound Effects Editor\n",
      "Production Supervisor\n",
      "Production Manager\n",
      "Sound Effects Editor\n",
      "Special Effects Coordinator\n",
      "Special Effects Coordinator\n",
      "Visual Effects Producer\n",
      "Visual Effects Producer\n",
      "Visual Effects Editor\n",
      "Visual Effects Editor\n",
      "Visual Effects Producer\n",
      "Visual Effects Editor\n",
      "Visual Effects Supervisor\n",
      "Visual Effects Supervisor\n",
      "Visual Effects Supervisor\n",
      "Visual Effects Supervisor\n",
      "Visual Effects Supervisor\n",
      "Visual Effects Supervisor\n",
      "Stunt Coordinator\n",
      "Best Boy Electric\n",
      "Still Photographer\n",
      "Lighting Technician\n",
      "Animation Director\n",
      "Animation Director\n",
      "Animation Director\n",
      "Set Costumer\n",
      "Set Costumer\n",
      "Digital Intermediate\n",
      "Publicist\n",
      "CG Supervisor\n",
      "CG Supervisor\n",
      "Conceptual Design\n",
      "Visual Effects Art Director\n",
      "Modeling\n",
      "Art Department Manager\n",
      "Hairstylist\n",
      "Lighting Artist\n",
      "Makeup Artist\n",
      "CG Supervisor\n",
      "CG Supervisor\n",
      "CG Supervisor\n",
      "CG Supervisor\n",
      "CG Supervisor\n",
      "CG Supervisor\n",
      "CG Supervisor\n",
      "CG Supervisor\n",
      "CG Supervisor\n",
      "CG Supervisor\n",
      "CG Supervisor\n",
      "CG Supervisor\n",
      "CG Supervisor\n",
      "CG Supervisor\n",
      "CG Supervisor\n",
      "CG Supervisor\n",
      "Stunts\n"
     ]
    }
   ],
   "source": [
    "for i in ast.literal_eval(movies['crew'][0]):\n",
    "    print(i['job'])"
   ]
  },
  {
   "cell_type": "code",
   "execution_count": 113,
   "id": "436efd02",
   "metadata": {
    "ExecuteTime": {
     "end_time": "2024-04-11T17:08:57.300803Z",
     "start_time": "2024-04-11T17:08:57.297740Z"
    }
   },
   "outputs": [],
   "source": [
    "def convert3(obj):\n",
    "    lst = []\n",
    "    for i in ast.literal_eval(obj):\n",
    "        if(i['job']=='Director' or i['job']=='Writer' or i['job']=='Producer'):\n",
    "            lst.append(i['name'])\n",
    "    return lst"
   ]
  },
  {
   "cell_type": "code",
   "execution_count": 114,
   "id": "a77a896c",
   "metadata": {
    "ExecuteTime": {
     "end_time": "2024-04-11T17:09:00.780506Z",
     "start_time": "2024-04-11T17:08:57.913769Z"
    }
   },
   "outputs": [],
   "source": [
    "movies['crew'] = movies['crew'].apply(convert3)"
   ]
  },
  {
   "cell_type": "code",
   "execution_count": 115,
   "id": "ac6d5330",
   "metadata": {
    "ExecuteTime": {
     "end_time": "2024-04-11T17:09:03.109348Z",
     "start_time": "2024-04-11T17:09:03.096911Z"
    }
   },
   "outputs": [
    {
     "data": {
      "text/html": [
       "<div>\n",
       "<style scoped>\n",
       "    .dataframe tbody tr th:only-of-type {\n",
       "        vertical-align: middle;\n",
       "    }\n",
       "\n",
       "    .dataframe tbody tr th {\n",
       "        vertical-align: top;\n",
       "    }\n",
       "\n",
       "    .dataframe thead th {\n",
       "        text-align: right;\n",
       "    }\n",
       "</style>\n",
       "<table border=\"1\" class=\"dataframe\">\n",
       "  <thead>\n",
       "    <tr style=\"text-align: right;\">\n",
       "      <th></th>\n",
       "      <th>ratingId</th>\n",
       "      <th>title</th>\n",
       "      <th>overview</th>\n",
       "      <th>genres</th>\n",
       "      <th>keywords</th>\n",
       "      <th>cast</th>\n",
       "      <th>crew</th>\n",
       "    </tr>\n",
       "  </thead>\n",
       "  <tbody>\n",
       "    <tr>\n",
       "      <th>0</th>\n",
       "      <td>19995</td>\n",
       "      <td>Avatar</td>\n",
       "      <td>In the 22nd century, a paraplegic Marine is di...</td>\n",
       "      <td>[Action, Adventure, Fantasy, Science Fiction]</td>\n",
       "      <td>[culture clash, future, space war, space colon...</td>\n",
       "      <td>[Sam Worthington, Zoe Saldana, Sigourney Weaver]</td>\n",
       "      <td>[James Cameron, James Cameron, James Cameron, ...</td>\n",
       "    </tr>\n",
       "    <tr>\n",
       "      <th>1</th>\n",
       "      <td>285</td>\n",
       "      <td>Pirates of the Caribbean: At World's End</td>\n",
       "      <td>Captain Barbossa, long believed to be dead, ha...</td>\n",
       "      <td>[Adventure, Fantasy, Action]</td>\n",
       "      <td>[ocean, drug abuse, exotic island, east india ...</td>\n",
       "      <td>[Johnny Depp, Orlando Bloom, Keira Knightley]</td>\n",
       "      <td>[Gore Verbinski, Jerry Bruckheimer, Eric McLeo...</td>\n",
       "    </tr>\n",
       "    <tr>\n",
       "      <th>2</th>\n",
       "      <td>206647</td>\n",
       "      <td>Spectre</td>\n",
       "      <td>A cryptic message from Bond’s past sends him o...</td>\n",
       "      <td>[Action, Adventure, Crime]</td>\n",
       "      <td>[spy, based on novel, secret agent, sequel, mi...</td>\n",
       "      <td>[Daniel Craig, Christoph Waltz, Léa Seydoux]</td>\n",
       "      <td>[Sam Mendes, Barbara Broccoli, Michael G. Wilson]</td>\n",
       "    </tr>\n",
       "    <tr>\n",
       "      <th>3</th>\n",
       "      <td>49026</td>\n",
       "      <td>The Dark Knight Rises</td>\n",
       "      <td>Following the death of District Attorney Harve...</td>\n",
       "      <td>[Action, Crime, Drama, Thriller]</td>\n",
       "      <td>[dc comics, crime fighter, terrorist, secret i...</td>\n",
       "      <td>[Christian Bale, Michael Caine, Gary Oldman]</td>\n",
       "      <td>[Charles Roven, Christopher Nolan, Christopher...</td>\n",
       "    </tr>\n",
       "    <tr>\n",
       "      <th>4</th>\n",
       "      <td>49529</td>\n",
       "      <td>John Carter</td>\n",
       "      <td>John Carter is a war-weary, former military ca...</td>\n",
       "      <td>[Action, Adventure, Science Fiction]</td>\n",
       "      <td>[based on novel, mars, medallion, space travel...</td>\n",
       "      <td>[Taylor Kitsch, Lynn Collins, Samantha Morton]</td>\n",
       "      <td>[Andrew Stanton, Colin Wilson, Jim Morris, Lin...</td>\n",
       "    </tr>\n",
       "  </tbody>\n",
       "</table>\n",
       "</div>"
      ],
      "text/plain": [
       "   ratingId                                     title  \\\n",
       "0     19995                                    Avatar   \n",
       "1       285  Pirates of the Caribbean: At World's End   \n",
       "2    206647                                   Spectre   \n",
       "3     49026                     The Dark Knight Rises   \n",
       "4     49529                               John Carter   \n",
       "\n",
       "                                            overview  \\\n",
       "0  In the 22nd century, a paraplegic Marine is di...   \n",
       "1  Captain Barbossa, long believed to be dead, ha...   \n",
       "2  A cryptic message from Bond’s past sends him o...   \n",
       "3  Following the death of District Attorney Harve...   \n",
       "4  John Carter is a war-weary, former military ca...   \n",
       "\n",
       "                                          genres  \\\n",
       "0  [Action, Adventure, Fantasy, Science Fiction]   \n",
       "1                   [Adventure, Fantasy, Action]   \n",
       "2                     [Action, Adventure, Crime]   \n",
       "3               [Action, Crime, Drama, Thriller]   \n",
       "4           [Action, Adventure, Science Fiction]   \n",
       "\n",
       "                                            keywords  \\\n",
       "0  [culture clash, future, space war, space colon...   \n",
       "1  [ocean, drug abuse, exotic island, east india ...   \n",
       "2  [spy, based on novel, secret agent, sequel, mi...   \n",
       "3  [dc comics, crime fighter, terrorist, secret i...   \n",
       "4  [based on novel, mars, medallion, space travel...   \n",
       "\n",
       "                                               cast  \\\n",
       "0  [Sam Worthington, Zoe Saldana, Sigourney Weaver]   \n",
       "1     [Johnny Depp, Orlando Bloom, Keira Knightley]   \n",
       "2      [Daniel Craig, Christoph Waltz, Léa Seydoux]   \n",
       "3      [Christian Bale, Michael Caine, Gary Oldman]   \n",
       "4    [Taylor Kitsch, Lynn Collins, Samantha Morton]   \n",
       "\n",
       "                                                crew  \n",
       "0  [James Cameron, James Cameron, James Cameron, ...  \n",
       "1  [Gore Verbinski, Jerry Bruckheimer, Eric McLeo...  \n",
       "2  [Sam Mendes, Barbara Broccoli, Michael G. Wilson]  \n",
       "3  [Charles Roven, Christopher Nolan, Christopher...  \n",
       "4  [Andrew Stanton, Colin Wilson, Jim Morris, Lin...  "
      ]
     },
     "execution_count": 115,
     "metadata": {},
     "output_type": "execute_result"
    }
   ],
   "source": [
    "movies.head()"
   ]
  },
  {
   "cell_type": "code",
   "execution_count": 116,
   "id": "baaa0bb9",
   "metadata": {
    "ExecuteTime": {
     "end_time": "2024-04-11T17:09:03.711807Z",
     "start_time": "2024-04-11T17:09:03.707140Z"
    }
   },
   "outputs": [
    {
     "data": {
      "text/plain": [
       "'In the 22nd century, a paraplegic Marine is dispatched to the moon Pandora on a unique mission, but becomes torn between following orders and protecting an alien civilization.'"
      ]
     },
     "execution_count": 116,
     "metadata": {},
     "output_type": "execute_result"
    }
   ],
   "source": [
    "movies['overview'][0]"
   ]
  },
  {
   "cell_type": "code",
   "execution_count": 117,
   "id": "3d13d287",
   "metadata": {
    "ExecuteTime": {
     "end_time": "2024-04-11T17:09:04.424742Z",
     "start_time": "2024-04-11T17:09:04.400469Z"
    }
   },
   "outputs": [],
   "source": [
    "movies['overview'] = movies['overview'].apply(lambda x : x.split())"
   ]
  },
  {
   "cell_type": "code",
   "execution_count": 118,
   "id": "1c29fa38",
   "metadata": {
    "ExecuteTime": {
     "end_time": "2024-04-11T17:09:04.966429Z",
     "start_time": "2024-04-11T17:09:04.953102Z"
    }
   },
   "outputs": [
    {
     "data": {
      "text/html": [
       "<div>\n",
       "<style scoped>\n",
       "    .dataframe tbody tr th:only-of-type {\n",
       "        vertical-align: middle;\n",
       "    }\n",
       "\n",
       "    .dataframe tbody tr th {\n",
       "        vertical-align: top;\n",
       "    }\n",
       "\n",
       "    .dataframe thead th {\n",
       "        text-align: right;\n",
       "    }\n",
       "</style>\n",
       "<table border=\"1\" class=\"dataframe\">\n",
       "  <thead>\n",
       "    <tr style=\"text-align: right;\">\n",
       "      <th></th>\n",
       "      <th>ratingId</th>\n",
       "      <th>title</th>\n",
       "      <th>overview</th>\n",
       "      <th>genres</th>\n",
       "      <th>keywords</th>\n",
       "      <th>cast</th>\n",
       "      <th>crew</th>\n",
       "    </tr>\n",
       "  </thead>\n",
       "  <tbody>\n",
       "    <tr>\n",
       "      <th>0</th>\n",
       "      <td>19995</td>\n",
       "      <td>Avatar</td>\n",
       "      <td>[In, the, 22nd, century,, a, paraplegic, Marin...</td>\n",
       "      <td>[Action, Adventure, Fantasy, Science Fiction]</td>\n",
       "      <td>[culture clash, future, space war, space colon...</td>\n",
       "      <td>[Sam Worthington, Zoe Saldana, Sigourney Weaver]</td>\n",
       "      <td>[James Cameron, James Cameron, James Cameron, ...</td>\n",
       "    </tr>\n",
       "    <tr>\n",
       "      <th>1</th>\n",
       "      <td>285</td>\n",
       "      <td>Pirates of the Caribbean: At World's End</td>\n",
       "      <td>[Captain, Barbossa,, long, believed, to, be, d...</td>\n",
       "      <td>[Adventure, Fantasy, Action]</td>\n",
       "      <td>[ocean, drug abuse, exotic island, east india ...</td>\n",
       "      <td>[Johnny Depp, Orlando Bloom, Keira Knightley]</td>\n",
       "      <td>[Gore Verbinski, Jerry Bruckheimer, Eric McLeo...</td>\n",
       "    </tr>\n",
       "    <tr>\n",
       "      <th>2</th>\n",
       "      <td>206647</td>\n",
       "      <td>Spectre</td>\n",
       "      <td>[A, cryptic, message, from, Bond’s, past, send...</td>\n",
       "      <td>[Action, Adventure, Crime]</td>\n",
       "      <td>[spy, based on novel, secret agent, sequel, mi...</td>\n",
       "      <td>[Daniel Craig, Christoph Waltz, Léa Seydoux]</td>\n",
       "      <td>[Sam Mendes, Barbara Broccoli, Michael G. Wilson]</td>\n",
       "    </tr>\n",
       "    <tr>\n",
       "      <th>3</th>\n",
       "      <td>49026</td>\n",
       "      <td>The Dark Knight Rises</td>\n",
       "      <td>[Following, the, death, of, District, Attorney...</td>\n",
       "      <td>[Action, Crime, Drama, Thriller]</td>\n",
       "      <td>[dc comics, crime fighter, terrorist, secret i...</td>\n",
       "      <td>[Christian Bale, Michael Caine, Gary Oldman]</td>\n",
       "      <td>[Charles Roven, Christopher Nolan, Christopher...</td>\n",
       "    </tr>\n",
       "    <tr>\n",
       "      <th>4</th>\n",
       "      <td>49529</td>\n",
       "      <td>John Carter</td>\n",
       "      <td>[John, Carter, is, a, war-weary,, former, mili...</td>\n",
       "      <td>[Action, Adventure, Science Fiction]</td>\n",
       "      <td>[based on novel, mars, medallion, space travel...</td>\n",
       "      <td>[Taylor Kitsch, Lynn Collins, Samantha Morton]</td>\n",
       "      <td>[Andrew Stanton, Colin Wilson, Jim Morris, Lin...</td>\n",
       "    </tr>\n",
       "  </tbody>\n",
       "</table>\n",
       "</div>"
      ],
      "text/plain": [
       "   ratingId                                     title  \\\n",
       "0     19995                                    Avatar   \n",
       "1       285  Pirates of the Caribbean: At World's End   \n",
       "2    206647                                   Spectre   \n",
       "3     49026                     The Dark Knight Rises   \n",
       "4     49529                               John Carter   \n",
       "\n",
       "                                            overview  \\\n",
       "0  [In, the, 22nd, century,, a, paraplegic, Marin...   \n",
       "1  [Captain, Barbossa,, long, believed, to, be, d...   \n",
       "2  [A, cryptic, message, from, Bond’s, past, send...   \n",
       "3  [Following, the, death, of, District, Attorney...   \n",
       "4  [John, Carter, is, a, war-weary,, former, mili...   \n",
       "\n",
       "                                          genres  \\\n",
       "0  [Action, Adventure, Fantasy, Science Fiction]   \n",
       "1                   [Adventure, Fantasy, Action]   \n",
       "2                     [Action, Adventure, Crime]   \n",
       "3               [Action, Crime, Drama, Thriller]   \n",
       "4           [Action, Adventure, Science Fiction]   \n",
       "\n",
       "                                            keywords  \\\n",
       "0  [culture clash, future, space war, space colon...   \n",
       "1  [ocean, drug abuse, exotic island, east india ...   \n",
       "2  [spy, based on novel, secret agent, sequel, mi...   \n",
       "3  [dc comics, crime fighter, terrorist, secret i...   \n",
       "4  [based on novel, mars, medallion, space travel...   \n",
       "\n",
       "                                               cast  \\\n",
       "0  [Sam Worthington, Zoe Saldana, Sigourney Weaver]   \n",
       "1     [Johnny Depp, Orlando Bloom, Keira Knightley]   \n",
       "2      [Daniel Craig, Christoph Waltz, Léa Seydoux]   \n",
       "3      [Christian Bale, Michael Caine, Gary Oldman]   \n",
       "4    [Taylor Kitsch, Lynn Collins, Samantha Morton]   \n",
       "\n",
       "                                                crew  \n",
       "0  [James Cameron, James Cameron, James Cameron, ...  \n",
       "1  [Gore Verbinski, Jerry Bruckheimer, Eric McLeo...  \n",
       "2  [Sam Mendes, Barbara Broccoli, Michael G. Wilson]  \n",
       "3  [Charles Roven, Christopher Nolan, Christopher...  \n",
       "4  [Andrew Stanton, Colin Wilson, Jim Morris, Lin...  "
      ]
     },
     "execution_count": 118,
     "metadata": {},
     "output_type": "execute_result"
    }
   ],
   "source": [
    "movies.head()"
   ]
  },
  {
   "cell_type": "code",
   "execution_count": 119,
   "id": "00416e15",
   "metadata": {
    "ExecuteTime": {
     "end_time": "2024-04-11T17:09:06.722338Z",
     "start_time": "2024-04-11T17:09:06.685344Z"
    }
   },
   "outputs": [],
   "source": [
    "# \"Sam Worthington\"\n",
    "# \"SamWorthington\"\n",
    "\n",
    "movies['genres'] = movies['genres'].apply(lambda x: [i.replace(\" \",\"\") for i in x])\n",
    "movies['keywords'] = movies['keywords'].apply(lambda x: [i.replace(\" \",\"\") for i in x])\n",
    "movies['cast'] = movies['cast'].apply(lambda x: [i.replace(\" \",\"\") for i in x])\n",
    "movies['crew'] = movies['crew'].apply(lambda x: [i.replace(\" \",\"\") for i in x])"
   ]
  },
  {
   "cell_type": "code",
   "execution_count": 120,
   "id": "8aabe770",
   "metadata": {
    "ExecuteTime": {
     "end_time": "2024-04-11T17:09:07.377269Z",
     "start_time": "2024-04-11T17:09:07.367836Z"
    }
   },
   "outputs": [
    {
     "data": {
      "text/html": [
       "<div>\n",
       "<style scoped>\n",
       "    .dataframe tbody tr th:only-of-type {\n",
       "        vertical-align: middle;\n",
       "    }\n",
       "\n",
       "    .dataframe tbody tr th {\n",
       "        vertical-align: top;\n",
       "    }\n",
       "\n",
       "    .dataframe thead th {\n",
       "        text-align: right;\n",
       "    }\n",
       "</style>\n",
       "<table border=\"1\" class=\"dataframe\">\n",
       "  <thead>\n",
       "    <tr style=\"text-align: right;\">\n",
       "      <th></th>\n",
       "      <th>ratingId</th>\n",
       "      <th>title</th>\n",
       "      <th>overview</th>\n",
       "      <th>genres</th>\n",
       "      <th>keywords</th>\n",
       "      <th>cast</th>\n",
       "      <th>crew</th>\n",
       "    </tr>\n",
       "  </thead>\n",
       "  <tbody>\n",
       "    <tr>\n",
       "      <th>0</th>\n",
       "      <td>19995</td>\n",
       "      <td>Avatar</td>\n",
       "      <td>[In, the, 22nd, century,, a, paraplegic, Marin...</td>\n",
       "      <td>[Action, Adventure, Fantasy, ScienceFiction]</td>\n",
       "      <td>[cultureclash, future, spacewar, spacecolony, ...</td>\n",
       "      <td>[SamWorthington, ZoeSaldana, SigourneyWeaver]</td>\n",
       "      <td>[JamesCameron, JamesCameron, JamesCameron, Jon...</td>\n",
       "    </tr>\n",
       "  </tbody>\n",
       "</table>\n",
       "</div>"
      ],
      "text/plain": [
       "   ratingId   title                                           overview  \\\n",
       "0     19995  Avatar  [In, the, 22nd, century,, a, paraplegic, Marin...   \n",
       "\n",
       "                                         genres  \\\n",
       "0  [Action, Adventure, Fantasy, ScienceFiction]   \n",
       "\n",
       "                                            keywords  \\\n",
       "0  [cultureclash, future, spacewar, spacecolony, ...   \n",
       "\n",
       "                                            cast  \\\n",
       "0  [SamWorthington, ZoeSaldana, SigourneyWeaver]   \n",
       "\n",
       "                                                crew  \n",
       "0  [JamesCameron, JamesCameron, JamesCameron, Jon...  "
      ]
     },
     "execution_count": 120,
     "metadata": {},
     "output_type": "execute_result"
    }
   ],
   "source": [
    "movies.head(1)"
   ]
  },
  {
   "cell_type": "code",
   "execution_count": 121,
   "id": "5c690016",
   "metadata": {
    "ExecuteTime": {
     "end_time": "2024-04-11T17:09:08.147422Z",
     "start_time": "2024-04-11T17:09:07.949178Z"
    }
   },
   "outputs": [],
   "source": [
    "movies['tags'] = movies['overview'] + movies['genres'] + movies['keywords'] + movies['cast'] + movies['crew']"
   ]
  },
  {
   "cell_type": "code",
   "execution_count": 122,
   "id": "74fc382d",
   "metadata": {
    "ExecuteTime": {
     "end_time": "2024-04-11T17:09:08.628569Z",
     "start_time": "2024-04-11T17:09:08.618806Z"
    }
   },
   "outputs": [
    {
     "data": {
      "text/html": [
       "<div>\n",
       "<style scoped>\n",
       "    .dataframe tbody tr th:only-of-type {\n",
       "        vertical-align: middle;\n",
       "    }\n",
       "\n",
       "    .dataframe tbody tr th {\n",
       "        vertical-align: top;\n",
       "    }\n",
       "\n",
       "    .dataframe thead th {\n",
       "        text-align: right;\n",
       "    }\n",
       "</style>\n",
       "<table border=\"1\" class=\"dataframe\">\n",
       "  <thead>\n",
       "    <tr style=\"text-align: right;\">\n",
       "      <th></th>\n",
       "      <th>ratingId</th>\n",
       "      <th>title</th>\n",
       "      <th>overview</th>\n",
       "      <th>genres</th>\n",
       "      <th>keywords</th>\n",
       "      <th>cast</th>\n",
       "      <th>crew</th>\n",
       "      <th>tags</th>\n",
       "    </tr>\n",
       "  </thead>\n",
       "  <tbody>\n",
       "    <tr>\n",
       "      <th>0</th>\n",
       "      <td>19995</td>\n",
       "      <td>Avatar</td>\n",
       "      <td>[In, the, 22nd, century,, a, paraplegic, Marin...</td>\n",
       "      <td>[Action, Adventure, Fantasy, ScienceFiction]</td>\n",
       "      <td>[cultureclash, future, spacewar, spacecolony, ...</td>\n",
       "      <td>[SamWorthington, ZoeSaldana, SigourneyWeaver]</td>\n",
       "      <td>[JamesCameron, JamesCameron, JamesCameron, Jon...</td>\n",
       "      <td>[In, the, 22nd, century,, a, paraplegic, Marin...</td>\n",
       "    </tr>\n",
       "    <tr>\n",
       "      <th>1</th>\n",
       "      <td>285</td>\n",
       "      <td>Pirates of the Caribbean: At World's End</td>\n",
       "      <td>[Captain, Barbossa,, long, believed, to, be, d...</td>\n",
       "      <td>[Adventure, Fantasy, Action]</td>\n",
       "      <td>[ocean, drugabuse, exoticisland, eastindiatrad...</td>\n",
       "      <td>[JohnnyDepp, OrlandoBloom, KeiraKnightley]</td>\n",
       "      <td>[GoreVerbinski, JerryBruckheimer, EricMcLeod, ...</td>\n",
       "      <td>[Captain, Barbossa,, long, believed, to, be, d...</td>\n",
       "    </tr>\n",
       "  </tbody>\n",
       "</table>\n",
       "</div>"
      ],
      "text/plain": [
       "   ratingId                                     title  \\\n",
       "0     19995                                    Avatar   \n",
       "1       285  Pirates of the Caribbean: At World's End   \n",
       "\n",
       "                                            overview  \\\n",
       "0  [In, the, 22nd, century,, a, paraplegic, Marin...   \n",
       "1  [Captain, Barbossa,, long, believed, to, be, d...   \n",
       "\n",
       "                                         genres  \\\n",
       "0  [Action, Adventure, Fantasy, ScienceFiction]   \n",
       "1                  [Adventure, Fantasy, Action]   \n",
       "\n",
       "                                            keywords  \\\n",
       "0  [cultureclash, future, spacewar, spacecolony, ...   \n",
       "1  [ocean, drugabuse, exoticisland, eastindiatrad...   \n",
       "\n",
       "                                            cast  \\\n",
       "0  [SamWorthington, ZoeSaldana, SigourneyWeaver]   \n",
       "1     [JohnnyDepp, OrlandoBloom, KeiraKnightley]   \n",
       "\n",
       "                                                crew  \\\n",
       "0  [JamesCameron, JamesCameron, JamesCameron, Jon...   \n",
       "1  [GoreVerbinski, JerryBruckheimer, EricMcLeod, ...   \n",
       "\n",
       "                                                tags  \n",
       "0  [In, the, 22nd, century,, a, paraplegic, Marin...  \n",
       "1  [Captain, Barbossa,, long, believed, to, be, d...  "
      ]
     },
     "execution_count": 122,
     "metadata": {},
     "output_type": "execute_result"
    }
   ],
   "source": [
    "movies.head(2)"
   ]
  },
  {
   "cell_type": "code",
   "execution_count": 123,
   "id": "065d493e",
   "metadata": {
    "ExecuteTime": {
     "end_time": "2024-04-11T17:09:09.296182Z",
     "start_time": "2024-04-11T17:09:09.291770Z"
    }
   },
   "outputs": [],
   "source": [
    "movies = movies[['ratingId','title','tags']]"
   ]
  },
  {
   "cell_type": "code",
   "execution_count": 124,
   "id": "66b82dc6",
   "metadata": {
    "ExecuteTime": {
     "end_time": "2024-04-11T17:09:09.957448Z",
     "start_time": "2024-04-11T17:09:09.944827Z"
    }
   },
   "outputs": [],
   "source": [
    "movies['tags'] = movies['tags'].apply(lambda x: \" \".join(x));"
   ]
  },
  {
   "cell_type": "code",
   "execution_count": 125,
   "id": "8195e85a",
   "metadata": {
    "ExecuteTime": {
     "end_time": "2024-04-11T17:09:10.972323Z",
     "start_time": "2024-04-11T17:09:10.960206Z"
    }
   },
   "outputs": [],
   "source": [
    "movies['tags'] = movies['tags'].apply(lambda x: x.lower())"
   ]
  },
  {
   "cell_type": "code",
   "execution_count": 126,
   "id": "eab9064e",
   "metadata": {
    "ExecuteTime": {
     "end_time": "2024-04-11T17:09:11.598835Z",
     "start_time": "2024-04-11T17:09:11.594220Z"
    }
   },
   "outputs": [
    {
     "data": {
      "text/plain": [
       "\"following the death of district attorney harvey dent, batman assumes responsibility for dent's crimes to protect the late attorney's reputation and is subsequently hunted by the gotham city police department. eight years later, batman encounters the mysterious selina kyle and the villainous bane, a new terrorist leader who overwhelms gotham's finest. the dark knight resurfaces to protect a city that has branded him an enemy. action crime drama thriller dccomics crimefighter terrorist secretidentity burglar hostagedrama timebomb gothamcity vigilante cover-up superhero villainess tragichero terrorism destruction catwoman catburglar imax flood criminalunderworld batman christianbale michaelcaine garyoldman charlesroven christophernolan christophernolan emmathomas\""
      ]
     },
     "execution_count": 126,
     "metadata": {},
     "output_type": "execute_result"
    }
   ],
   "source": [
    "movies['tags'][3]"
   ]
  },
  {
   "cell_type": "code",
   "execution_count": 127,
   "id": "2547eee2",
   "metadata": {
    "ExecuteTime": {
     "end_time": "2024-04-11T17:09:12.548006Z",
     "start_time": "2024-04-11T17:09:12.543804Z"
    }
   },
   "outputs": [
    {
     "data": {
      "text/plain": [
       "'a cryptic message from bond’s past sends him on a trail to uncover a sinister organization. while m battles political forces to keep the secret service alive, bond peels back the layers of deceit to reveal the terrible truth behind spectre. action adventure crime spy basedonnovel secretagent sequel mi6 britishsecretservice unitedkingdom danielcraig christophwaltz léaseydoux sammendes barbarabroccoli michaelg.wilson'"
      ]
     },
     "execution_count": 127,
     "metadata": {},
     "output_type": "execute_result"
    }
   ],
   "source": [
    "movies['tags'][2]"
   ]
  },
  {
   "cell_type": "markdown",
   "id": "01f0217f",
   "metadata": {},
   "source": [
    "## Text Vectorization using CountVectorizer and Tf-IDF Vectorizer"
   ]
  },
  {
   "cell_type": "code",
   "execution_count": 134,
   "id": "c3a17387",
   "metadata": {
    "ExecuteTime": {
     "end_time": "2024-04-11T17:09:16.346178Z",
     "start_time": "2024-04-11T17:09:13.823565Z"
    }
   },
   "outputs": [],
   "source": [
    "from sklearn.feature_extraction.text import CountVectorizer\n",
    "cv = CountVectorizer(max_features=5000, stop_words='english')"
   ]
  },
  {
   "cell_type": "code",
   "execution_count": 135,
   "id": "a7e7d7c1",
   "metadata": {
    "ExecuteTime": {
     "end_time": "2024-04-11T17:09:17.316553Z",
     "start_time": "2024-04-11T17:09:16.998438Z"
    }
   },
   "outputs": [],
   "source": [
    "vectors = cv.fit_transform(movies['tags']).toarray()"
   ]
  },
  {
   "cell_type": "code",
   "execution_count": 136,
   "id": "3ce6195f",
   "metadata": {
    "ExecuteTime": {
     "end_time": "2024-04-11T17:09:17.667186Z",
     "start_time": "2024-04-11T17:09:17.662588Z"
    }
   },
   "outputs": [
    {
     "data": {
      "text/plain": [
       "array([0, 0, 0, ..., 0, 0, 0], dtype=int64)"
      ]
     },
     "execution_count": 136,
     "metadata": {},
     "output_type": "execute_result"
    }
   ],
   "source": [
    "vectors[0]"
   ]
  },
  {
   "cell_type": "code",
   "execution_count": 137,
   "id": "657bedee",
   "metadata": {
    "ExecuteTime": {
     "end_time": "2024-04-11T17:09:18.242474Z",
     "start_time": "2024-04-11T17:09:18.234925Z"
    }
   },
   "outputs": [
    {
     "data": {
      "text/plain": [
       "array(['000', '007', '10', ..., 'zone', 'zoo', 'zooeydeschanel'],\n",
       "      dtype=object)"
      ]
     },
     "execution_count": 137,
     "metadata": {},
     "output_type": "execute_result"
    }
   ],
   "source": [
    "cv.get_feature_names_out()"
   ]
  },
  {
   "cell_type": "code",
   "execution_count": 138,
   "id": "ac5e32ef",
   "metadata": {
    "ExecuteTime": {
     "end_time": "2024-04-11T17:09:18.833509Z",
     "start_time": "2024-04-11T17:09:18.831048Z"
    }
   },
   "outputs": [],
   "source": [
    "# [accept, accepted, accepts]\n",
    "# [accept, accept, accept]"
   ]
  },
  {
   "cell_type": "code",
   "execution_count": 139,
   "id": "970cd05e",
   "metadata": {
    "ExecuteTime": {
     "end_time": "2024-04-11T17:09:20.319754Z",
     "start_time": "2024-04-11T17:09:19.580589Z"
    }
   },
   "outputs": [],
   "source": [
    "import nltk"
   ]
  },
  {
   "cell_type": "code",
   "execution_count": 140,
   "id": "3cd4023b",
   "metadata": {
    "ExecuteTime": {
     "end_time": "2024-04-11T17:09:20.916020Z",
     "start_time": "2024-04-11T17:09:20.912636Z"
    }
   },
   "outputs": [],
   "source": [
    "from nltk.stem.porter import PorterStemmer\n",
    "ps = PorterStemmer()"
   ]
  },
  {
   "cell_type": "code",
   "execution_count": 141,
   "id": "ffddc525",
   "metadata": {
    "ExecuteTime": {
     "end_time": "2024-04-11T17:09:21.414510Z",
     "start_time": "2024-04-11T17:09:21.411241Z"
    }
   },
   "outputs": [],
   "source": [
    "def stem(text):\n",
    "    lst = []\n",
    "    for i in text.split():\n",
    "        lst.append(ps.stem(i))\n",
    "    return \" \".join(lst)"
   ]
  },
  {
   "cell_type": "code",
   "execution_count": 142,
   "id": "4889e807",
   "metadata": {
    "ExecuteTime": {
     "end_time": "2024-04-11T17:09:26.231730Z",
     "start_time": "2024-04-11T17:09:22.267079Z"
    }
   },
   "outputs": [],
   "source": [
    "movies['tags'] = movies['tags'].apply(stem)"
   ]
  },
  {
   "cell_type": "code",
   "execution_count": 143,
   "id": "71eb2cd5",
   "metadata": {
    "ExecuteTime": {
     "end_time": "2024-04-11T17:09:29.433093Z",
     "start_time": "2024-04-11T17:09:29.427862Z"
    }
   },
   "outputs": [],
   "source": [
    "cv = CountVectorizer(max_features=5000, stop_words='english')"
   ]
  },
  {
   "cell_type": "code",
   "execution_count": 144,
   "id": "0e362105",
   "metadata": {
    "ExecuteTime": {
     "end_time": "2024-04-11T17:09:30.275022Z",
     "start_time": "2024-04-11T17:09:29.958342Z"
    }
   },
   "outputs": [],
   "source": [
    "vectors = cv.fit_transform(movies['tags']).toarray()"
   ]
  },
  {
   "cell_type": "code",
   "execution_count": 145,
   "id": "cad7563e",
   "metadata": {
    "ExecuteTime": {
     "end_time": "2024-04-11T17:09:31.160017Z",
     "start_time": "2024-04-11T17:09:31.152968Z"
    },
    "scrolled": true
   },
   "outputs": [
    {
     "data": {
      "text/plain": [
       "array(['000', '007', '10', ..., 'zone', 'zoo', 'zooeydeschanel'],\n",
       "      dtype=object)"
      ]
     },
     "execution_count": 145,
     "metadata": {},
     "output_type": "execute_result"
    }
   ],
   "source": [
    "cv.get_feature_names_out()"
   ]
  },
  {
   "cell_type": "code",
   "execution_count": 146,
   "id": "86f3f567",
   "metadata": {
    "ExecuteTime": {
     "end_time": "2024-04-11T17:09:31.923138Z",
     "start_time": "2024-04-11T17:09:31.919614Z"
    }
   },
   "outputs": [],
   "source": [
    "from sklearn.feature_extraction.text import TfidfVectorizer"
   ]
  },
  {
   "cell_type": "code",
   "execution_count": 147,
   "id": "5e15f280",
   "metadata": {
    "ExecuteTime": {
     "end_time": "2024-04-11T17:09:32.791881Z",
     "start_time": "2024-04-11T17:09:32.788738Z"
    }
   },
   "outputs": [],
   "source": [
    "tf = TfidfVectorizer(stop_words='english',max_features=10000)"
   ]
  },
  {
   "cell_type": "code",
   "execution_count": 148,
   "id": "833c6497",
   "metadata": {
    "ExecuteTime": {
     "end_time": "2024-04-11T17:09:33.811815Z",
     "start_time": "2024-04-11T17:09:33.457616Z"
    }
   },
   "outputs": [],
   "source": [
    "tfvectors = tf.fit_transform(movies['tags']).toarray() "
   ]
  },
  {
   "cell_type": "code",
   "execution_count": 149,
   "id": "7e6c703e",
   "metadata": {
    "ExecuteTime": {
     "end_time": "2024-04-11T17:09:34.259148Z",
     "start_time": "2024-04-11T17:09:34.249421Z"
    }
   },
   "outputs": [
    {
     "data": {
      "text/plain": [
       "array(['000', '007', '10', ..., 'zooey', 'zooeydeschanel',\n",
       "       'álvaroaugustín'], dtype=object)"
      ]
     },
     "execution_count": 149,
     "metadata": {},
     "output_type": "execute_result"
    }
   ],
   "source": [
    "tf.get_feature_names_out()"
   ]
  },
  {
   "cell_type": "code",
   "execution_count": 150,
   "id": "9faa9ede",
   "metadata": {
    "ExecuteTime": {
     "end_time": "2024-04-11T17:09:35.350778Z",
     "start_time": "2024-04-11T17:09:35.339872Z"
    }
   },
   "outputs": [
    {
     "data": {
      "text/plain": [
       "10000"
      ]
     },
     "execution_count": 150,
     "metadata": {},
     "output_type": "execute_result"
    }
   ],
   "source": [
    "len(tf.get_feature_names_out())"
   ]
  },
  {
   "cell_type": "markdown",
   "id": "977a63e8",
   "metadata": {},
   "source": [
    "### Similarity between vectors"
   ]
  },
  {
   "cell_type": "code",
   "execution_count": 151,
   "id": "72212363",
   "metadata": {
    "ExecuteTime": {
     "end_time": "2024-04-11T17:09:37.045122Z",
     "start_time": "2024-04-11T17:09:37.042130Z"
    }
   },
   "outputs": [],
   "source": [
    "from sklearn.metrics.pairwise import cosine_similarity"
   ]
  },
  {
   "cell_type": "code",
   "execution_count": 152,
   "id": "e709b082",
   "metadata": {
    "ExecuteTime": {
     "end_time": "2024-04-11T17:09:38.750024Z",
     "start_time": "2024-04-11T17:09:37.705308Z"
    }
   },
   "outputs": [
    {
     "data": {
      "text/plain": [
       "(4806, 4806)"
      ]
     },
     "execution_count": 152,
     "metadata": {},
     "output_type": "execute_result"
    }
   ],
   "source": [
    "cosine_similarity(vectors).shape"
   ]
  },
  {
   "cell_type": "code",
   "execution_count": 153,
   "id": "5bd96c28",
   "metadata": {
    "ExecuteTime": {
     "end_time": "2024-04-11T17:09:40.822715Z",
     "start_time": "2024-04-11T17:09:39.628827Z"
    }
   },
   "outputs": [],
   "source": [
    "similarity = cosine_similarity(vectors)"
   ]
  },
  {
   "cell_type": "code",
   "execution_count": 154,
   "id": "10b7ff47",
   "metadata": {
    "ExecuteTime": {
     "end_time": "2024-04-11T17:09:41.425011Z",
     "start_time": "2024-04-11T17:09:41.419648Z"
    }
   },
   "outputs": [
    {
     "data": {
      "text/plain": [
       "(4806,)"
      ]
     },
     "execution_count": 154,
     "metadata": {},
     "output_type": "execute_result"
    }
   ],
   "source": [
    "similarity[0].shape"
   ]
  },
  {
   "cell_type": "code",
   "execution_count": 155,
   "id": "86feebaf",
   "metadata": {
    "ExecuteTime": {
     "end_time": "2024-04-11T17:09:44.333231Z",
     "start_time": "2024-04-11T17:09:42.295581Z"
    }
   },
   "outputs": [],
   "source": [
    "tfsimilarity = cosine_similarity(tfvectors)"
   ]
  },
  {
   "cell_type": "code",
   "execution_count": 156,
   "id": "d0809dc0",
   "metadata": {
    "ExecuteTime": {
     "end_time": "2024-04-11T17:09:47.899845Z",
     "start_time": "2024-04-11T17:09:47.895418Z"
    }
   },
   "outputs": [
    {
     "data": {
      "text/plain": [
       "(4806,)"
      ]
     },
     "execution_count": 156,
     "metadata": {},
     "output_type": "execute_result"
    }
   ],
   "source": [
    "tfsimilarity[0].shape"
   ]
  },
  {
   "cell_type": "code",
   "execution_count": 157,
   "id": "abd7c1a6",
   "metadata": {
    "ExecuteTime": {
     "end_time": "2024-04-11T17:09:50.409743Z",
     "start_time": "2024-04-11T17:09:50.400327Z"
    }
   },
   "outputs": [
    {
     "data": {
      "text/plain": [
       "[(2405, 0.2921532737340716),\n",
       " (1214, 0.2646692524652196),\n",
       " (3728, 0.24210006235312614),\n",
       " (279, 0.23961691914926153),\n",
       " (507, 0.23961691914926153),\n",
       " (539, 0.22934123614693147),\n",
       " (582, 0.223606797749979),\n",
       " (1192, 0.21541010921383236),\n",
       " (4046, 0.21320071635561044),\n",
       " (778, 0.20906050250177274)]"
      ]
     },
     "execution_count": 157,
     "metadata": {},
     "output_type": "execute_result"
    }
   ],
   "source": [
    "sorted(list(enumerate(similarity[movies[movies['title']=='Avatar'].index[0]])),reverse=True,key=lambda x: x[1])[1:11]"
   ]
  },
  {
   "cell_type": "code",
   "execution_count": 158,
   "id": "4e4bed53",
   "metadata": {
    "ExecuteTime": {
     "end_time": "2024-04-11T17:09:52.518055Z",
     "start_time": "2024-04-11T17:09:52.514873Z"
    }
   },
   "outputs": [],
   "source": [
    "def recommendCV(movie):\n",
    "    movie_idx = movies[movies['title']==movie].index[0]\n",
    "    similar = similarity[movie_idx]\n",
    "    movies_list = sorted(list(enumerate(similar)),reverse=True,key=lambda x: x[1])[1:11]\n",
    "    \n",
    "    return movies_list"
   ]
  },
  {
   "cell_type": "code",
   "execution_count": 159,
   "id": "0d63b59d",
   "metadata": {
    "ExecuteTime": {
     "end_time": "2024-04-11T17:09:53.243811Z",
     "start_time": "2024-04-11T17:09:53.240051Z"
    }
   },
   "outputs": [],
   "source": [
    "def recommendTf(movie):\n",
    "    movie_idx = movies[movies['title']==movie].index[0]\n",
    "    similar = tfsimilarity[movie_idx]\n",
    "    movies_list = sorted(list(enumerate(similar)),reverse=True,key=lambda x: x[1])[1:11]\n",
    "    \n",
    "    return movies_list"
   ]
  },
  {
   "cell_type": "code",
   "execution_count": 160,
   "id": "937e7917",
   "metadata": {
    "ExecuteTime": {
     "end_time": "2024-04-11T17:11:56.298345Z",
     "start_time": "2024-04-11T17:11:56.290172Z"
    }
   },
   "outputs": [
    {
     "name": "stdout",
     "output_type": "stream",
     "text": [
      "Aliens\n",
      "Aliens vs Predator: Requiem\n",
      "Anne of Green Gables\n",
      "Terminator 2: Judgment Day\n",
      "Independence Day\n",
      "Titan A.E.\n",
      "Battle: Los Angeles\n",
      "Small Soldiers\n",
      "This Is England\n",
      "Meet Dave\n"
     ]
    }
   ],
   "source": [
    "for i in recommendCV('Avatar'):\n",
    "    print(movies['title'][i[0]])"
   ]
  },
  {
   "cell_type": "code",
   "execution_count": 161,
   "id": "9251917e",
   "metadata": {
    "ExecuteTime": {
     "end_time": "2024-04-11T17:11:56.952562Z",
     "start_time": "2024-04-11T17:11:56.945180Z"
    }
   },
   "outputs": [
    {
     "name": "stdout",
     "output_type": "stream",
     "text": [
      "Aliens\n",
      "Terminator 2: Judgment Day\n",
      "True Lies\n",
      "Control\n",
      "Anne of Green Gables\n",
      "Battle: Los Angeles\n",
      "Titanic\n",
      "Lone Wolf McQuade\n",
      "Aliens vs Predator: Requiem\n",
      "Meet Dave\n"
     ]
    }
   ],
   "source": [
    "for i in recommendTf('Avatar'):\n",
    "    print(movies['title'][i[0]])"
   ]
  },
  {
   "cell_type": "code",
   "execution_count": 83,
   "id": "e5b61732",
   "metadata": {
    "ExecuteTime": {
     "end_time": "2024-04-11T17:12:01.813288Z",
     "start_time": "2024-04-11T17:12:01.806022Z"
    },
    "scrolled": true
   },
   "outputs": [
    {
     "name": "stdout",
     "output_type": "stream",
     "text": [
      "The Dark Knight\n",
      "Batman\n",
      "The Dark Knight Rises\n",
      "Batman\n",
      "Batman v Superman: Dawn of Justice\n",
      "Wuthering Heights\n",
      "Bananas\n",
      "The House of Sand\n",
      "The Sweeney\n",
      "City By The Sea\n"
     ]
    }
   ],
   "source": [
    "for i in recommendCV('Batman Begins'):\n",
    "    print(movies['title'][i[0]])"
   ]
  },
  {
   "cell_type": "code",
   "execution_count": 84,
   "id": "34551819",
   "metadata": {
    "ExecuteTime": {
     "end_time": "2024-04-11T17:12:07.380123Z",
     "start_time": "2024-04-11T17:12:07.372814Z"
    }
   },
   "outputs": [
    {
     "name": "stdout",
     "output_type": "stream",
     "text": [
      "The Dark Knight\n",
      "The Dark Knight Rises\n",
      "Batman v Superman: Dawn of Justice\n",
      "Batman\n",
      "Batman\n",
      "Batman Returns\n",
      "Man of Steel\n",
      "Batman & Robin\n",
      "The Prestige\n",
      "The House of Sand\n"
     ]
    }
   ],
   "source": [
    "for i in recommendTf('Batman Begins'):\n",
    "    print(movies['title'][i[0]])"
   ]
  },
  {
   "cell_type": "code",
   "execution_count": 85,
   "id": "0bb89f10",
   "metadata": {
    "ExecuteTime": {
     "end_time": "2024-04-11T17:12:08.369308Z",
     "start_time": "2024-04-11T17:12:08.362611Z"
    }
   },
   "outputs": [
    {
     "name": "stdout",
     "output_type": "stream",
     "text": [
      "Avengers: Age of Ultron\n",
      "Captain America: Civil War\n",
      "Iron Man 3\n",
      "Captain America: The First Avenger\n",
      "Iron Man\n",
      "Thor: The Dark World\n",
      "Ant-Man\n",
      "Iron Man 2\n",
      "Captain America: The Winter Soldier\n",
      "Guardians of the Galaxy\n"
     ]
    }
   ],
   "source": [
    "for i in recommendCV('The Avengers'):\n",
    "    print(movies['title'][i[0]])"
   ]
  },
  {
   "cell_type": "code",
   "execution_count": 86,
   "id": "b47dc2cb",
   "metadata": {
    "ExecuteTime": {
     "end_time": "2024-04-11T17:12:10.323672Z",
     "start_time": "2024-04-11T17:12:10.315955Z"
    }
   },
   "outputs": [
    {
     "name": "stdout",
     "output_type": "stream",
     "text": [
      "Avengers: Age of Ultron\n",
      "Captain America: Civil War\n",
      "Captain America: The Winter Soldier\n",
      "Iron Man 3\n",
      "Iron Man 2\n",
      "Iron Man\n",
      "Captain America: The First Avenger\n",
      "Thor: The Dark World\n",
      "Ant-Man\n",
      "Thor\n"
     ]
    }
   ],
   "source": [
    "for i in recommendTf('The Avengers'):\n",
    "    print(movies['title'][i[0]])"
   ]
  },
  {
   "cell_type": "code",
   "execution_count": 77,
   "id": "3d068734",
   "metadata": {},
   "outputs": [],
   "source": [
    "simi_matrix_cv = pd.DataFrame(similarity)"
   ]
  },
  {
   "cell_type": "code",
   "execution_count": 119,
   "id": "705b1bf9",
   "metadata": {
    "ExecuteTime": {
     "end_time": "2024-04-11T17:23:11.404867Z",
     "start_time": "2024-04-11T17:23:11.401299Z"
    }
   },
   "outputs": [],
   "source": [
    "simi_matrix = pd.DataFrame(tfsimilarity)"
   ]
  },
  {
   "cell_type": "code",
   "execution_count": 120,
   "id": "4c24fe03",
   "metadata": {
    "ExecuteTime": {
     "end_time": "2024-04-11T17:23:13.345022Z",
     "start_time": "2024-04-11T17:23:13.340608Z"
    }
   },
   "outputs": [],
   "source": [
    "id = list(movies['ratingId'])\n",
    "dic = {i:x for i,x in enumerate(id)}"
   ]
  },
  {
   "cell_type": "code",
   "execution_count": 121,
   "id": "63c7f4d5",
   "metadata": {
    "ExecuteTime": {
     "end_time": "2024-04-11T17:23:19.037840Z",
     "start_time": "2024-04-11T17:23:19.030454Z"
    }
   },
   "outputs": [],
   "source": [
    "simi_matrix.rename(columns=dic, inplace=True)"
   ]
  },
  {
   "cell_type": "code",
   "execution_count": 122,
   "id": "3e17c6bb",
   "metadata": {
    "ExecuteTime": {
     "end_time": "2024-04-11T17:23:22.739234Z",
     "start_time": "2024-04-11T17:23:22.732124Z"
    }
   },
   "outputs": [],
   "source": [
    "simi_matrix.rename(index=dic, inplace=True)"
   ]
  },
  {
   "cell_type": "code",
   "execution_count": 123,
   "id": "2d71f802",
   "metadata": {
    "ExecuteTime": {
     "end_time": "2024-04-11T17:23:59.258065Z",
     "start_time": "2024-04-11T17:23:35.598652Z"
    }
   },
   "outputs": [],
   "source": [
    "simi_matrix.to_csv('features_similarity.csv')"
   ]
  }
 ],
 "metadata": {
  "kernelspec": {
   "display_name": "tfod",
   "language": "python",
   "name": "python3"
  },
  "language_info": {
   "codemirror_mode": {
    "name": "ipython",
    "version": 3
   },
   "file_extension": ".py",
   "mimetype": "text/x-python",
   "name": "python",
   "nbconvert_exporter": "python",
   "pygments_lexer": "ipython3",
   "version": "3.11.0"
  },
  "toc": {
   "base_numbering": 1,
   "nav_menu": {},
   "number_sections": true,
   "sideBar": true,
   "skip_h1_title": false,
   "title_cell": "Table of Contents",
   "title_sidebar": "Contents",
   "toc_cell": false,
   "toc_position": {},
   "toc_section_display": true,
   "toc_window_display": false
  },
  "varInspector": {
   "cols": {
    "lenName": 16,
    "lenType": 16,
    "lenVar": 40
   },
   "kernels_config": {
    "python": {
     "delete_cmd_postfix": "",
     "delete_cmd_prefix": "del ",
     "library": "var_list.py",
     "varRefreshCmd": "print(var_dic_list())"
    },
    "r": {
     "delete_cmd_postfix": ") ",
     "delete_cmd_prefix": "rm(",
     "library": "var_list.r",
     "varRefreshCmd": "cat(var_dic_list()) "
    }
   },
   "types_to_exclude": [
    "module",
    "function",
    "builtin_function_or_method",
    "instance",
    "_Feature"
   ],
   "window_display": false
  }
 },
 "nbformat": 4,
 "nbformat_minor": 5
}
